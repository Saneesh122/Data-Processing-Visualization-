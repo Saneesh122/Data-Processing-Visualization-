{
  "nbformat": 4,
  "nbformat_minor": 0,
  "metadata": {
    "colab": {
      "name": "Untitled2.ipynb",
      "provenance": [],
      "authorship_tag": "ABX9TyPppeY3KNaKYxnr+MgXal9c",
      "include_colab_link": true
    },
    "kernelspec": {
      "name": "python3",
      "display_name": "Python 3"
    },
    "language_info": {
      "name": "python"
    }
  },
  "cells": [
    {
      "cell_type": "markdown",
      "metadata": {
        "id": "view-in-github",
        "colab_type": "text"
      },
      "source": [
        "<a href=\"https://colab.research.google.com/github/Saneesh122/Data-Processing-Visualization-/blob/main/Untitled2.ipynb\" target=\"_parent\"><img src=\"https://colab.research.google.com/assets/colab-badge.svg\" alt=\"Open In Colab\"/></a>"
      ]
    },
    {
      "cell_type": "markdown",
      "source": [
        "**Exam-3**\n",
        "\n",
        "**Sanish Shrestha** "
      ],
      "metadata": {
        "id": "LTBRDjBGwYkZ"
      }
    },
    {
      "cell_type": "markdown",
      "source": [
        "References:-\n",
        "\n",
        "https://github.com/nurfnick/Data_Viz/\n",
        "\n",
        "https://github.com/Saneesh122/Data-Processing-and-Visualization-\n",
        "\n",
        "https://thecodingbot.com/check-if-a-column-contains-specific-string-in-a-pandas-dataframe/#:~:text=Note%3A%20Pandas.-,str.,still%20would%20have%20returned%20True\n",
        "\n",
        "https://pandas.pydata.org/docs/reference/frame.html\n",
        "\n",
        "https://www.google.com/search?q=manchester+united&rlz=1C1SQJL_enUS927US927&sxsrf=APq-WBuLaWxkuv_dkvj7k-HCQZwmKu6MFA:1650291078127&source=lnms&tbm=isch&sa=X&ved=2ahUKEwjx__Kr5Z33AhVLkmoFHXuNDOoQ_AUoA3oECAIQBQ&biw=2560&bih=969&dpr=1#imgrc=ZKSz2uWDjkS9uM"
      ],
      "metadata": {
        "id": "26xiKB_2w6xw"
      }
    },
    {
      "cell_type": "markdown",
      "source": [
        "**I attest that the resources above were the only ones utilized in completing the exam and the work included is my own and no one else from the course**"
      ],
      "metadata": {
        "id": "tcrILADuxQiR"
      }
    },
    {
      "cell_type": "code",
      "source": [
        "# loading libraries\n",
        "import pandas as pd\n",
        "import matplotlib.pyplot as plt\n",
        "import seaborn as sns"
      ],
      "metadata": {
        "id": "zvL4-7hcw19Y"
      },
      "execution_count": 1,
      "outputs": []
    },
    {
      "cell_type": "markdown",
      "source": [
        "**Let's get started**"
      ],
      "metadata": {
        "id": "AxaSIyw3w57Y"
      }
    },
    {
      "cell_type": "markdown",
      "source": [
        "1)  **Store the data as a pandas dataframe. Find your favorite ‘club’ or ‘nationality’ (that is present in the data!), include a picture that represents them and include it in your notebook. (If no favorite, just pick one!)**\n",
        "\n",
        "- Down below is my favorite club with a picture:- "
      ],
      "metadata": {
        "id": "axZqNy2hxcNo"
      }
    },
    {
      "cell_type": "code",
      "source": [
        "df = pd.read_csv('https://raw.githubusercontent.com/nurfnick/Data_Viz/main/worldCupPlayer.csv')\n",
        "df"
      ],
      "metadata": {
        "colab": {
          "base_uri": "https://localhost:8080/",
          "height": 424
        },
        "id": "gKaKk_f-xyEI",
        "outputId": "cee712e9-1987-4475-dcea-1814da6047b6"
      },
      "execution_count": 2,
      "outputs": [
        {
          "output_type": "execute_result",
          "data": {
            "text/plain": [
              "     Unnamed: 0  Rank                player           club  age   Apps  Mins  \\\n",
              "0             0     1          Hakim Ziyech           Ajax   25     34  3043   \n",
              "1             2     2   Alireza Jahanbakhsh     AZ Alkmaar   24     33  2840   \n",
              "2             4     3        Hirving Lozano  PSV Eindhoven   22     29  2350   \n",
              "3             6    11          Lasse Schone           Ajax   32  27(3)  2350   \n",
              "4            10    25        Santiago Arias  PSV Eindhoven   26     30  2664   \n",
              "..          ...   ...                   ...            ...  ...    ...   ...   \n",
              "598        1150   200    Giancarlo Gonzalez        Bologna   30     22  1858   \n",
              "599        1152   217  Stephan Lichtsteiner       Juventus   34  21(6)  1715   \n",
              "600        1154   235        Dawid Kownacki      Sampdoria   21  6(16)   811   \n",
              "601        1156   265     Emil Hallfredsson        Udinese   33  8(11)   761   \n",
              "602        1158   269         Marcus Rohden        Crotone   27  20(6)  1637   \n",
              "\n",
              "     Goals  Assists  Yel  Red  SpG    PS AerialsWon  MotM  Rating  nationality  \n",
              "0        9       15    4    0  4.9  75.4        0.2     9    8.21      Morocco  \n",
              "1       21       12    3    0  4.3  73.4        0.7    14    8.20         Iran  \n",
              "2       17        8    4    2  3.4  75.3        0.6     8    7.90       Mexico  \n",
              "3       10        3    6    0  1.9  87.0        1.9     2    7.45      Denmark  \n",
              "4        3        6    5    0  1.5  82.3          1     2    7.25     Colombia  \n",
              "..     ...      ...  ...  ...  ...   ...        ...   ...     ...          ...  \n",
              "598      0        0    4    2    -  80.6        2.4     0    6.63   Costa Rica  \n",
              "599      0        2    6    0  0.1  82.2        0.9     0    6.59  Switzerland  \n",
              "600      5        1    0    0    1  75.4        1.4     0    6.51       Poland  \n",
              "601      0        0    5    0  0.1  88.5        0.6     0    6.39      Iceland  \n",
              "602      2        0    2    0  0.8  67.6        0.8     0    6.35       Sweden  \n",
              "\n",
              "[603 rows x 17 columns]"
            ],
            "text/html": [
              "\n",
              "  <div id=\"df-d3b590a2-4773-467a-b075-9a9fc5649db9\">\n",
              "    <div class=\"colab-df-container\">\n",
              "      <div>\n",
              "<style scoped>\n",
              "    .dataframe tbody tr th:only-of-type {\n",
              "        vertical-align: middle;\n",
              "    }\n",
              "\n",
              "    .dataframe tbody tr th {\n",
              "        vertical-align: top;\n",
              "    }\n",
              "\n",
              "    .dataframe thead th {\n",
              "        text-align: right;\n",
              "    }\n",
              "</style>\n",
              "<table border=\"1\" class=\"dataframe\">\n",
              "  <thead>\n",
              "    <tr style=\"text-align: right;\">\n",
              "      <th></th>\n",
              "      <th>Unnamed: 0</th>\n",
              "      <th>Rank</th>\n",
              "      <th>player</th>\n",
              "      <th>club</th>\n",
              "      <th>age</th>\n",
              "      <th>Apps</th>\n",
              "      <th>Mins</th>\n",
              "      <th>Goals</th>\n",
              "      <th>Assists</th>\n",
              "      <th>Yel</th>\n",
              "      <th>Red</th>\n",
              "      <th>SpG</th>\n",
              "      <th>PS</th>\n",
              "      <th>AerialsWon</th>\n",
              "      <th>MotM</th>\n",
              "      <th>Rating</th>\n",
              "      <th>nationality</th>\n",
              "    </tr>\n",
              "  </thead>\n",
              "  <tbody>\n",
              "    <tr>\n",
              "      <th>0</th>\n",
              "      <td>0</td>\n",
              "      <td>1</td>\n",
              "      <td>Hakim Ziyech</td>\n",
              "      <td>Ajax</td>\n",
              "      <td>25</td>\n",
              "      <td>34</td>\n",
              "      <td>3043</td>\n",
              "      <td>9</td>\n",
              "      <td>15</td>\n",
              "      <td>4</td>\n",
              "      <td>0</td>\n",
              "      <td>4.9</td>\n",
              "      <td>75.4</td>\n",
              "      <td>0.2</td>\n",
              "      <td>9</td>\n",
              "      <td>8.21</td>\n",
              "      <td>Morocco</td>\n",
              "    </tr>\n",
              "    <tr>\n",
              "      <th>1</th>\n",
              "      <td>2</td>\n",
              "      <td>2</td>\n",
              "      <td>Alireza Jahanbakhsh</td>\n",
              "      <td>AZ Alkmaar</td>\n",
              "      <td>24</td>\n",
              "      <td>33</td>\n",
              "      <td>2840</td>\n",
              "      <td>21</td>\n",
              "      <td>12</td>\n",
              "      <td>3</td>\n",
              "      <td>0</td>\n",
              "      <td>4.3</td>\n",
              "      <td>73.4</td>\n",
              "      <td>0.7</td>\n",
              "      <td>14</td>\n",
              "      <td>8.20</td>\n",
              "      <td>Iran</td>\n",
              "    </tr>\n",
              "    <tr>\n",
              "      <th>2</th>\n",
              "      <td>4</td>\n",
              "      <td>3</td>\n",
              "      <td>Hirving Lozano</td>\n",
              "      <td>PSV Eindhoven</td>\n",
              "      <td>22</td>\n",
              "      <td>29</td>\n",
              "      <td>2350</td>\n",
              "      <td>17</td>\n",
              "      <td>8</td>\n",
              "      <td>4</td>\n",
              "      <td>2</td>\n",
              "      <td>3.4</td>\n",
              "      <td>75.3</td>\n",
              "      <td>0.6</td>\n",
              "      <td>8</td>\n",
              "      <td>7.90</td>\n",
              "      <td>Mexico</td>\n",
              "    </tr>\n",
              "    <tr>\n",
              "      <th>3</th>\n",
              "      <td>6</td>\n",
              "      <td>11</td>\n",
              "      <td>Lasse Schone</td>\n",
              "      <td>Ajax</td>\n",
              "      <td>32</td>\n",
              "      <td>27(3)</td>\n",
              "      <td>2350</td>\n",
              "      <td>10</td>\n",
              "      <td>3</td>\n",
              "      <td>6</td>\n",
              "      <td>0</td>\n",
              "      <td>1.9</td>\n",
              "      <td>87.0</td>\n",
              "      <td>1.9</td>\n",
              "      <td>2</td>\n",
              "      <td>7.45</td>\n",
              "      <td>Denmark</td>\n",
              "    </tr>\n",
              "    <tr>\n",
              "      <th>4</th>\n",
              "      <td>10</td>\n",
              "      <td>25</td>\n",
              "      <td>Santiago Arias</td>\n",
              "      <td>PSV Eindhoven</td>\n",
              "      <td>26</td>\n",
              "      <td>30</td>\n",
              "      <td>2664</td>\n",
              "      <td>3</td>\n",
              "      <td>6</td>\n",
              "      <td>5</td>\n",
              "      <td>0</td>\n",
              "      <td>1.5</td>\n",
              "      <td>82.3</td>\n",
              "      <td>1</td>\n",
              "      <td>2</td>\n",
              "      <td>7.25</td>\n",
              "      <td>Colombia</td>\n",
              "    </tr>\n",
              "    <tr>\n",
              "      <th>...</th>\n",
              "      <td>...</td>\n",
              "      <td>...</td>\n",
              "      <td>...</td>\n",
              "      <td>...</td>\n",
              "      <td>...</td>\n",
              "      <td>...</td>\n",
              "      <td>...</td>\n",
              "      <td>...</td>\n",
              "      <td>...</td>\n",
              "      <td>...</td>\n",
              "      <td>...</td>\n",
              "      <td>...</td>\n",
              "      <td>...</td>\n",
              "      <td>...</td>\n",
              "      <td>...</td>\n",
              "      <td>...</td>\n",
              "      <td>...</td>\n",
              "    </tr>\n",
              "    <tr>\n",
              "      <th>598</th>\n",
              "      <td>1150</td>\n",
              "      <td>200</td>\n",
              "      <td>Giancarlo Gonzalez</td>\n",
              "      <td>Bologna</td>\n",
              "      <td>30</td>\n",
              "      <td>22</td>\n",
              "      <td>1858</td>\n",
              "      <td>0</td>\n",
              "      <td>0</td>\n",
              "      <td>4</td>\n",
              "      <td>2</td>\n",
              "      <td>-</td>\n",
              "      <td>80.6</td>\n",
              "      <td>2.4</td>\n",
              "      <td>0</td>\n",
              "      <td>6.63</td>\n",
              "      <td>Costa Rica</td>\n",
              "    </tr>\n",
              "    <tr>\n",
              "      <th>599</th>\n",
              "      <td>1152</td>\n",
              "      <td>217</td>\n",
              "      <td>Stephan Lichtsteiner</td>\n",
              "      <td>Juventus</td>\n",
              "      <td>34</td>\n",
              "      <td>21(6)</td>\n",
              "      <td>1715</td>\n",
              "      <td>0</td>\n",
              "      <td>2</td>\n",
              "      <td>6</td>\n",
              "      <td>0</td>\n",
              "      <td>0.1</td>\n",
              "      <td>82.2</td>\n",
              "      <td>0.9</td>\n",
              "      <td>0</td>\n",
              "      <td>6.59</td>\n",
              "      <td>Switzerland</td>\n",
              "    </tr>\n",
              "    <tr>\n",
              "      <th>600</th>\n",
              "      <td>1154</td>\n",
              "      <td>235</td>\n",
              "      <td>Dawid Kownacki</td>\n",
              "      <td>Sampdoria</td>\n",
              "      <td>21</td>\n",
              "      <td>6(16)</td>\n",
              "      <td>811</td>\n",
              "      <td>5</td>\n",
              "      <td>1</td>\n",
              "      <td>0</td>\n",
              "      <td>0</td>\n",
              "      <td>1</td>\n",
              "      <td>75.4</td>\n",
              "      <td>1.4</td>\n",
              "      <td>0</td>\n",
              "      <td>6.51</td>\n",
              "      <td>Poland</td>\n",
              "    </tr>\n",
              "    <tr>\n",
              "      <th>601</th>\n",
              "      <td>1156</td>\n",
              "      <td>265</td>\n",
              "      <td>Emil Hallfredsson</td>\n",
              "      <td>Udinese</td>\n",
              "      <td>33</td>\n",
              "      <td>8(11)</td>\n",
              "      <td>761</td>\n",
              "      <td>0</td>\n",
              "      <td>0</td>\n",
              "      <td>5</td>\n",
              "      <td>0</td>\n",
              "      <td>0.1</td>\n",
              "      <td>88.5</td>\n",
              "      <td>0.6</td>\n",
              "      <td>0</td>\n",
              "      <td>6.39</td>\n",
              "      <td>Iceland</td>\n",
              "    </tr>\n",
              "    <tr>\n",
              "      <th>602</th>\n",
              "      <td>1158</td>\n",
              "      <td>269</td>\n",
              "      <td>Marcus Rohden</td>\n",
              "      <td>Crotone</td>\n",
              "      <td>27</td>\n",
              "      <td>20(6)</td>\n",
              "      <td>1637</td>\n",
              "      <td>2</td>\n",
              "      <td>0</td>\n",
              "      <td>2</td>\n",
              "      <td>0</td>\n",
              "      <td>0.8</td>\n",
              "      <td>67.6</td>\n",
              "      <td>0.8</td>\n",
              "      <td>0</td>\n",
              "      <td>6.35</td>\n",
              "      <td>Sweden</td>\n",
              "    </tr>\n",
              "  </tbody>\n",
              "</table>\n",
              "<p>603 rows × 17 columns</p>\n",
              "</div>\n",
              "      <button class=\"colab-df-convert\" onclick=\"convertToInteractive('df-d3b590a2-4773-467a-b075-9a9fc5649db9')\"\n",
              "              title=\"Convert this dataframe to an interactive table.\"\n",
              "              style=\"display:none;\">\n",
              "        \n",
              "  <svg xmlns=\"http://www.w3.org/2000/svg\" height=\"24px\"viewBox=\"0 0 24 24\"\n",
              "       width=\"24px\">\n",
              "    <path d=\"M0 0h24v24H0V0z\" fill=\"none\"/>\n",
              "    <path d=\"M18.56 5.44l.94 2.06.94-2.06 2.06-.94-2.06-.94-.94-2.06-.94 2.06-2.06.94zm-11 1L8.5 8.5l.94-2.06 2.06-.94-2.06-.94L8.5 2.5l-.94 2.06-2.06.94zm10 10l.94 2.06.94-2.06 2.06-.94-2.06-.94-.94-2.06-.94 2.06-2.06.94z\"/><path d=\"M17.41 7.96l-1.37-1.37c-.4-.4-.92-.59-1.43-.59-.52 0-1.04.2-1.43.59L10.3 9.45l-7.72 7.72c-.78.78-.78 2.05 0 2.83L4 21.41c.39.39.9.59 1.41.59.51 0 1.02-.2 1.41-.59l7.78-7.78 2.81-2.81c.8-.78.8-2.07 0-2.86zM5.41 20L4 18.59l7.72-7.72 1.47 1.35L5.41 20z\"/>\n",
              "  </svg>\n",
              "      </button>\n",
              "      \n",
              "  <style>\n",
              "    .colab-df-container {\n",
              "      display:flex;\n",
              "      flex-wrap:wrap;\n",
              "      gap: 12px;\n",
              "    }\n",
              "\n",
              "    .colab-df-convert {\n",
              "      background-color: #E8F0FE;\n",
              "      border: none;\n",
              "      border-radius: 50%;\n",
              "      cursor: pointer;\n",
              "      display: none;\n",
              "      fill: #1967D2;\n",
              "      height: 32px;\n",
              "      padding: 0 0 0 0;\n",
              "      width: 32px;\n",
              "    }\n",
              "\n",
              "    .colab-df-convert:hover {\n",
              "      background-color: #E2EBFA;\n",
              "      box-shadow: 0px 1px 2px rgba(60, 64, 67, 0.3), 0px 1px 3px 1px rgba(60, 64, 67, 0.15);\n",
              "      fill: #174EA6;\n",
              "    }\n",
              "\n",
              "    [theme=dark] .colab-df-convert {\n",
              "      background-color: #3B4455;\n",
              "      fill: #D2E3FC;\n",
              "    }\n",
              "\n",
              "    [theme=dark] .colab-df-convert:hover {\n",
              "      background-color: #434B5C;\n",
              "      box-shadow: 0px 1px 3px 1px rgba(0, 0, 0, 0.15);\n",
              "      filter: drop-shadow(0px 1px 2px rgba(0, 0, 0, 0.3));\n",
              "      fill: #FFFFFF;\n",
              "    }\n",
              "  </style>\n",
              "\n",
              "      <script>\n",
              "        const buttonEl =\n",
              "          document.querySelector('#df-d3b590a2-4773-467a-b075-9a9fc5649db9 button.colab-df-convert');\n",
              "        buttonEl.style.display =\n",
              "          google.colab.kernel.accessAllowed ? 'block' : 'none';\n",
              "\n",
              "        async function convertToInteractive(key) {\n",
              "          const element = document.querySelector('#df-d3b590a2-4773-467a-b075-9a9fc5649db9');\n",
              "          const dataTable =\n",
              "            await google.colab.kernel.invokeFunction('convertToInteractive',\n",
              "                                                     [key], {});\n",
              "          if (!dataTable) return;\n",
              "\n",
              "          const docLinkHtml = 'Like what you see? Visit the ' +\n",
              "            '<a target=\"_blank\" href=https://colab.research.google.com/notebooks/data_table.ipynb>data table notebook</a>'\n",
              "            + ' to learn more about interactive tables.';\n",
              "          element.innerHTML = '';\n",
              "          dataTable['output_type'] = 'display_data';\n",
              "          await google.colab.output.renderOutput(dataTable, element);\n",
              "          const docLink = document.createElement('div');\n",
              "          docLink.innerHTML = docLinkHtml;\n",
              "          element.appendChild(docLink);\n",
              "        }\n",
              "      </script>\n",
              "    </div>\n",
              "  </div>\n",
              "  "
            ]
          },
          "metadata": {},
          "execution_count": 2
        }
      ]
    },
    {
      "cell_type": "markdown",
      "source": [
        "![download.png](data:image/png;base64,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)"
      ],
      "metadata": {
        "id": "h7RtWe72yHYo"
      }
    },
    {
      "cell_type": "markdown",
      "source": [
        "Here, my favroite club is Manchester United. "
      ],
      "metadata": {
        "id": "7_mF2wICyOT3"
      }
    },
    {
      "cell_type": "code",
      "source": [
        "df['club'].str.contains('Manchester United').any()"
      ],
      "metadata": {
        "colab": {
          "base_uri": "https://localhost:8080/"
        },
        "id": "CXccFUrayblg",
        "outputId": "cf4cd0ec-fb36-4c83-e247-5315d4c12ab4"
      },
      "execution_count": 4,
      "outputs": [
        {
          "output_type": "execute_result",
          "data": {
            "text/plain": [
              "True"
            ]
          },
          "metadata": {},
          "execution_count": 4
        }
      ]
    },
    {
      "cell_type": "markdown",
      "source": [
        "2) **Show a table with all the data about your favorite club or nationality. Include some description about an interesting fact in the data**"
      ],
      "metadata": {
        "id": "1IGO37hZzDLf"
      }
    },
    {
      "cell_type": "code",
      "source": [
        "d=df.loc[df['club']=='Manchester United']\n",
        "d"
      ],
      "metadata": {
        "colab": {
          "base_uri": "https://localhost:8080/",
          "height": 488
        },
        "id": "e8IIskzzzWPf",
        "outputId": "51e3235a-3953-426c-c6c9-8413d0cd280e"
      },
      "execution_count": 5,
      "outputs": [
        {
          "output_type": "execute_result",
          "data": {
            "text/plain": [
              "     Unnamed: 0  Rank           player               club  age    Apps  Mins  \\\n",
              "420         803     9       Paul Pogba  Manchester United   25   25(2)  2151   \n",
              "421         804   187       Paul Pogba  Manchester United   25    3(2)   279   \n",
              "426         813    17    Romelu Lukaku  Manchester United   25   33(1)  2869   \n",
              "427         815    16    Romelu Lukaku  Manchester United   25       8   704   \n",
              "434         828    27       Phil Jones  Manchester United   26      23  1975   \n",
              "435         830    28    Nemanja Matic  Manchester United   29   35(1)  3119   \n",
              "436         832    45    Nemanja Matic  Manchester United   29    6(1)   564   \n",
              "444         848    38     Ashley Young  Manchester United   32   28(2)  2448   \n",
              "445         850    51     Ashley Young  Manchester United   32       4   337   \n",
              "483         926   127    Jesse Lingard  Manchester United   25  20(13)  1823   \n",
              "484         928   426    Jesse Lingard  Manchester United   25    3(3)   246   \n",
              "493         946   164  Marcus Rashford  Manchester United   20  17(18)  1810   \n",
              "494         948   153  Marcus Rashford  Manchester United   20    3(5)   345   \n",
              "559        1074   138  Victor Lindelof  Manchester United   23       5   450   \n",
              "\n",
              "     Goals  Assists  Yel  Red  SpG    PS AerialsWon  MotM  Rating nationality  \n",
              "420      6       10    5    1  2.8  85.3        1.9     4    7.48      France  \n",
              "421      0        1    0    0    1  86.0        0.6     0    6.83      France  \n",
              "426     16        7    4    0  2.5  68.4        3.2     2    7.29     Belgium  \n",
              "427      5        0    0    0  3.3  70.3        4.5     2    7.70     Belgium  \n",
              "434      0        0    2    0  0.1  91.2        2.5     2    7.21     England  \n",
              "435      1        1    6    0  0.5  87.7        1.6     0    7.20      Serbia  \n",
              "436      0        0    0    0  0.4  89.2        1.4     1    7.29      Serbia  \n",
              "444      2        4    7    0  0.6  79.5        0.6     4    7.12     England  \n",
              "445      0        1    1    0  0.5  83.9        0.5     0    7.27     England  \n",
              "483      8        5    2    0  1.7  87.8        0.2     1    6.82     England  \n",
              "484      0        0    2    0  0.7  91.6        0.3     0    6.23     England  \n",
              "493      7        5    3    0  1.7  78.3        0.5     1    6.76     England  \n",
              "494      3        1    1    0  2.4  75.4        0.4     1    6.94     England  \n",
              "559      0        0    0    0    -  90.3        1.2     0    6.98      Sweden  "
            ],
            "text/html": [
              "\n",
              "  <div id=\"df-efc51f74-464b-417d-967d-537d67a578b8\">\n",
              "    <div class=\"colab-df-container\">\n",
              "      <div>\n",
              "<style scoped>\n",
              "    .dataframe tbody tr th:only-of-type {\n",
              "        vertical-align: middle;\n",
              "    }\n",
              "\n",
              "    .dataframe tbody tr th {\n",
              "        vertical-align: top;\n",
              "    }\n",
              "\n",
              "    .dataframe thead th {\n",
              "        text-align: right;\n",
              "    }\n",
              "</style>\n",
              "<table border=\"1\" class=\"dataframe\">\n",
              "  <thead>\n",
              "    <tr style=\"text-align: right;\">\n",
              "      <th></th>\n",
              "      <th>Unnamed: 0</th>\n",
              "      <th>Rank</th>\n",
              "      <th>player</th>\n",
              "      <th>club</th>\n",
              "      <th>age</th>\n",
              "      <th>Apps</th>\n",
              "      <th>Mins</th>\n",
              "      <th>Goals</th>\n",
              "      <th>Assists</th>\n",
              "      <th>Yel</th>\n",
              "      <th>Red</th>\n",
              "      <th>SpG</th>\n",
              "      <th>PS</th>\n",
              "      <th>AerialsWon</th>\n",
              "      <th>MotM</th>\n",
              "      <th>Rating</th>\n",
              "      <th>nationality</th>\n",
              "    </tr>\n",
              "  </thead>\n",
              "  <tbody>\n",
              "    <tr>\n",
              "      <th>420</th>\n",
              "      <td>803</td>\n",
              "      <td>9</td>\n",
              "      <td>Paul Pogba</td>\n",
              "      <td>Manchester United</td>\n",
              "      <td>25</td>\n",
              "      <td>25(2)</td>\n",
              "      <td>2151</td>\n",
              "      <td>6</td>\n",
              "      <td>10</td>\n",
              "      <td>5</td>\n",
              "      <td>1</td>\n",
              "      <td>2.8</td>\n",
              "      <td>85.3</td>\n",
              "      <td>1.9</td>\n",
              "      <td>4</td>\n",
              "      <td>7.48</td>\n",
              "      <td>France</td>\n",
              "    </tr>\n",
              "    <tr>\n",
              "      <th>421</th>\n",
              "      <td>804</td>\n",
              "      <td>187</td>\n",
              "      <td>Paul Pogba</td>\n",
              "      <td>Manchester United</td>\n",
              "      <td>25</td>\n",
              "      <td>3(2)</td>\n",
              "      <td>279</td>\n",
              "      <td>0</td>\n",
              "      <td>1</td>\n",
              "      <td>0</td>\n",
              "      <td>0</td>\n",
              "      <td>1</td>\n",
              "      <td>86.0</td>\n",
              "      <td>0.6</td>\n",
              "      <td>0</td>\n",
              "      <td>6.83</td>\n",
              "      <td>France</td>\n",
              "    </tr>\n",
              "    <tr>\n",
              "      <th>426</th>\n",
              "      <td>813</td>\n",
              "      <td>17</td>\n",
              "      <td>Romelu Lukaku</td>\n",
              "      <td>Manchester United</td>\n",
              "      <td>25</td>\n",
              "      <td>33(1)</td>\n",
              "      <td>2869</td>\n",
              "      <td>16</td>\n",
              "      <td>7</td>\n",
              "      <td>4</td>\n",
              "      <td>0</td>\n",
              "      <td>2.5</td>\n",
              "      <td>68.4</td>\n",
              "      <td>3.2</td>\n",
              "      <td>2</td>\n",
              "      <td>7.29</td>\n",
              "      <td>Belgium</td>\n",
              "    </tr>\n",
              "    <tr>\n",
              "      <th>427</th>\n",
              "      <td>815</td>\n",
              "      <td>16</td>\n",
              "      <td>Romelu Lukaku</td>\n",
              "      <td>Manchester United</td>\n",
              "      <td>25</td>\n",
              "      <td>8</td>\n",
              "      <td>704</td>\n",
              "      <td>5</td>\n",
              "      <td>0</td>\n",
              "      <td>0</td>\n",
              "      <td>0</td>\n",
              "      <td>3.3</td>\n",
              "      <td>70.3</td>\n",
              "      <td>4.5</td>\n",
              "      <td>2</td>\n",
              "      <td>7.70</td>\n",
              "      <td>Belgium</td>\n",
              "    </tr>\n",
              "    <tr>\n",
              "      <th>434</th>\n",
              "      <td>828</td>\n",
              "      <td>27</td>\n",
              "      <td>Phil Jones</td>\n",
              "      <td>Manchester United</td>\n",
              "      <td>26</td>\n",
              "      <td>23</td>\n",
              "      <td>1975</td>\n",
              "      <td>0</td>\n",
              "      <td>0</td>\n",
              "      <td>2</td>\n",
              "      <td>0</td>\n",
              "      <td>0.1</td>\n",
              "      <td>91.2</td>\n",
              "      <td>2.5</td>\n",
              "      <td>2</td>\n",
              "      <td>7.21</td>\n",
              "      <td>England</td>\n",
              "    </tr>\n",
              "    <tr>\n",
              "      <th>435</th>\n",
              "      <td>830</td>\n",
              "      <td>28</td>\n",
              "      <td>Nemanja Matic</td>\n",
              "      <td>Manchester United</td>\n",
              "      <td>29</td>\n",
              "      <td>35(1)</td>\n",
              "      <td>3119</td>\n",
              "      <td>1</td>\n",
              "      <td>1</td>\n",
              "      <td>6</td>\n",
              "      <td>0</td>\n",
              "      <td>0.5</td>\n",
              "      <td>87.7</td>\n",
              "      <td>1.6</td>\n",
              "      <td>0</td>\n",
              "      <td>7.20</td>\n",
              "      <td>Serbia</td>\n",
              "    </tr>\n",
              "    <tr>\n",
              "      <th>436</th>\n",
              "      <td>832</td>\n",
              "      <td>45</td>\n",
              "      <td>Nemanja Matic</td>\n",
              "      <td>Manchester United</td>\n",
              "      <td>29</td>\n",
              "      <td>6(1)</td>\n",
              "      <td>564</td>\n",
              "      <td>0</td>\n",
              "      <td>0</td>\n",
              "      <td>0</td>\n",
              "      <td>0</td>\n",
              "      <td>0.4</td>\n",
              "      <td>89.2</td>\n",
              "      <td>1.4</td>\n",
              "      <td>1</td>\n",
              "      <td>7.29</td>\n",
              "      <td>Serbia</td>\n",
              "    </tr>\n",
              "    <tr>\n",
              "      <th>444</th>\n",
              "      <td>848</td>\n",
              "      <td>38</td>\n",
              "      <td>Ashley Young</td>\n",
              "      <td>Manchester United</td>\n",
              "      <td>32</td>\n",
              "      <td>28(2)</td>\n",
              "      <td>2448</td>\n",
              "      <td>2</td>\n",
              "      <td>4</td>\n",
              "      <td>7</td>\n",
              "      <td>0</td>\n",
              "      <td>0.6</td>\n",
              "      <td>79.5</td>\n",
              "      <td>0.6</td>\n",
              "      <td>4</td>\n",
              "      <td>7.12</td>\n",
              "      <td>England</td>\n",
              "    </tr>\n",
              "    <tr>\n",
              "      <th>445</th>\n",
              "      <td>850</td>\n",
              "      <td>51</td>\n",
              "      <td>Ashley Young</td>\n",
              "      <td>Manchester United</td>\n",
              "      <td>32</td>\n",
              "      <td>4</td>\n",
              "      <td>337</td>\n",
              "      <td>0</td>\n",
              "      <td>1</td>\n",
              "      <td>1</td>\n",
              "      <td>0</td>\n",
              "      <td>0.5</td>\n",
              "      <td>83.9</td>\n",
              "      <td>0.5</td>\n",
              "      <td>0</td>\n",
              "      <td>7.27</td>\n",
              "      <td>England</td>\n",
              "    </tr>\n",
              "    <tr>\n",
              "      <th>483</th>\n",
              "      <td>926</td>\n",
              "      <td>127</td>\n",
              "      <td>Jesse Lingard</td>\n",
              "      <td>Manchester United</td>\n",
              "      <td>25</td>\n",
              "      <td>20(13)</td>\n",
              "      <td>1823</td>\n",
              "      <td>8</td>\n",
              "      <td>5</td>\n",
              "      <td>2</td>\n",
              "      <td>0</td>\n",
              "      <td>1.7</td>\n",
              "      <td>87.8</td>\n",
              "      <td>0.2</td>\n",
              "      <td>1</td>\n",
              "      <td>6.82</td>\n",
              "      <td>England</td>\n",
              "    </tr>\n",
              "    <tr>\n",
              "      <th>484</th>\n",
              "      <td>928</td>\n",
              "      <td>426</td>\n",
              "      <td>Jesse Lingard</td>\n",
              "      <td>Manchester United</td>\n",
              "      <td>25</td>\n",
              "      <td>3(3)</td>\n",
              "      <td>246</td>\n",
              "      <td>0</td>\n",
              "      <td>0</td>\n",
              "      <td>2</td>\n",
              "      <td>0</td>\n",
              "      <td>0.7</td>\n",
              "      <td>91.6</td>\n",
              "      <td>0.3</td>\n",
              "      <td>0</td>\n",
              "      <td>6.23</td>\n",
              "      <td>England</td>\n",
              "    </tr>\n",
              "    <tr>\n",
              "      <th>493</th>\n",
              "      <td>946</td>\n",
              "      <td>164</td>\n",
              "      <td>Marcus Rashford</td>\n",
              "      <td>Manchester United</td>\n",
              "      <td>20</td>\n",
              "      <td>17(18)</td>\n",
              "      <td>1810</td>\n",
              "      <td>7</td>\n",
              "      <td>5</td>\n",
              "      <td>3</td>\n",
              "      <td>0</td>\n",
              "      <td>1.7</td>\n",
              "      <td>78.3</td>\n",
              "      <td>0.5</td>\n",
              "      <td>1</td>\n",
              "      <td>6.76</td>\n",
              "      <td>England</td>\n",
              "    </tr>\n",
              "    <tr>\n",
              "      <th>494</th>\n",
              "      <td>948</td>\n",
              "      <td>153</td>\n",
              "      <td>Marcus Rashford</td>\n",
              "      <td>Manchester United</td>\n",
              "      <td>20</td>\n",
              "      <td>3(5)</td>\n",
              "      <td>345</td>\n",
              "      <td>3</td>\n",
              "      <td>1</td>\n",
              "      <td>1</td>\n",
              "      <td>0</td>\n",
              "      <td>2.4</td>\n",
              "      <td>75.4</td>\n",
              "      <td>0.4</td>\n",
              "      <td>1</td>\n",
              "      <td>6.94</td>\n",
              "      <td>England</td>\n",
              "    </tr>\n",
              "    <tr>\n",
              "      <th>559</th>\n",
              "      <td>1074</td>\n",
              "      <td>138</td>\n",
              "      <td>Victor Lindelof</td>\n",
              "      <td>Manchester United</td>\n",
              "      <td>23</td>\n",
              "      <td>5</td>\n",
              "      <td>450</td>\n",
              "      <td>0</td>\n",
              "      <td>0</td>\n",
              "      <td>0</td>\n",
              "      <td>0</td>\n",
              "      <td>-</td>\n",
              "      <td>90.3</td>\n",
              "      <td>1.2</td>\n",
              "      <td>0</td>\n",
              "      <td>6.98</td>\n",
              "      <td>Sweden</td>\n",
              "    </tr>\n",
              "  </tbody>\n",
              "</table>\n",
              "</div>\n",
              "      <button class=\"colab-df-convert\" onclick=\"convertToInteractive('df-efc51f74-464b-417d-967d-537d67a578b8')\"\n",
              "              title=\"Convert this dataframe to an interactive table.\"\n",
              "              style=\"display:none;\">\n",
              "        \n",
              "  <svg xmlns=\"http://www.w3.org/2000/svg\" height=\"24px\"viewBox=\"0 0 24 24\"\n",
              "       width=\"24px\">\n",
              "    <path d=\"M0 0h24v24H0V0z\" fill=\"none\"/>\n",
              "    <path d=\"M18.56 5.44l.94 2.06.94-2.06 2.06-.94-2.06-.94-.94-2.06-.94 2.06-2.06.94zm-11 1L8.5 8.5l.94-2.06 2.06-.94-2.06-.94L8.5 2.5l-.94 2.06-2.06.94zm10 10l.94 2.06.94-2.06 2.06-.94-2.06-.94-.94-2.06-.94 2.06-2.06.94z\"/><path d=\"M17.41 7.96l-1.37-1.37c-.4-.4-.92-.59-1.43-.59-.52 0-1.04.2-1.43.59L10.3 9.45l-7.72 7.72c-.78.78-.78 2.05 0 2.83L4 21.41c.39.39.9.59 1.41.59.51 0 1.02-.2 1.41-.59l7.78-7.78 2.81-2.81c.8-.78.8-2.07 0-2.86zM5.41 20L4 18.59l7.72-7.72 1.47 1.35L5.41 20z\"/>\n",
              "  </svg>\n",
              "      </button>\n",
              "      \n",
              "  <style>\n",
              "    .colab-df-container {\n",
              "      display:flex;\n",
              "      flex-wrap:wrap;\n",
              "      gap: 12px;\n",
              "    }\n",
              "\n",
              "    .colab-df-convert {\n",
              "      background-color: #E8F0FE;\n",
              "      border: none;\n",
              "      border-radius: 50%;\n",
              "      cursor: pointer;\n",
              "      display: none;\n",
              "      fill: #1967D2;\n",
              "      height: 32px;\n",
              "      padding: 0 0 0 0;\n",
              "      width: 32px;\n",
              "    }\n",
              "\n",
              "    .colab-df-convert:hover {\n",
              "      background-color: #E2EBFA;\n",
              "      box-shadow: 0px 1px 2px rgba(60, 64, 67, 0.3), 0px 1px 3px 1px rgba(60, 64, 67, 0.15);\n",
              "      fill: #174EA6;\n",
              "    }\n",
              "\n",
              "    [theme=dark] .colab-df-convert {\n",
              "      background-color: #3B4455;\n",
              "      fill: #D2E3FC;\n",
              "    }\n",
              "\n",
              "    [theme=dark] .colab-df-convert:hover {\n",
              "      background-color: #434B5C;\n",
              "      box-shadow: 0px 1px 3px 1px rgba(0, 0, 0, 0.15);\n",
              "      filter: drop-shadow(0px 1px 2px rgba(0, 0, 0, 0.3));\n",
              "      fill: #FFFFFF;\n",
              "    }\n",
              "  </style>\n",
              "\n",
              "      <script>\n",
              "        const buttonEl =\n",
              "          document.querySelector('#df-efc51f74-464b-417d-967d-537d67a578b8 button.colab-df-convert');\n",
              "        buttonEl.style.display =\n",
              "          google.colab.kernel.accessAllowed ? 'block' : 'none';\n",
              "\n",
              "        async function convertToInteractive(key) {\n",
              "          const element = document.querySelector('#df-efc51f74-464b-417d-967d-537d67a578b8');\n",
              "          const dataTable =\n",
              "            await google.colab.kernel.invokeFunction('convertToInteractive',\n",
              "                                                     [key], {});\n",
              "          if (!dataTable) return;\n",
              "\n",
              "          const docLinkHtml = 'Like what you see? Visit the ' +\n",
              "            '<a target=\"_blank\" href=https://colab.research.google.com/notebooks/data_table.ipynb>data table notebook</a>'\n",
              "            + ' to learn more about interactive tables.';\n",
              "          element.innerHTML = '';\n",
              "          dataTable['output_type'] = 'display_data';\n",
              "          await google.colab.output.renderOutput(dataTable, element);\n",
              "          const docLink = document.createElement('div');\n",
              "          docLink.innerHTML = docLinkHtml;\n",
              "          element.appendChild(docLink);\n",
              "        }\n",
              "      </script>\n",
              "    </div>\n",
              "  </div>\n",
              "  "
            ]
          },
          "metadata": {},
          "execution_count": 5
        }
      ]
    },
    {
      "cell_type": "markdown",
      "source": [
        "Interesting fact is Paul Pogba being in number 9 in rank section where he should have been in under rank holder but anyways data is data and rank is a rank. "
      ],
      "metadata": {
        "id": "D0f67kW0z_Ov"
      }
    },
    {
      "cell_type": "markdown",
      "source": [
        "**Down below is the list of players with atleast two goals :- **"
      ],
      "metadata": {
        "id": "j6QHnklH0hwn"
      }
    },
    {
      "cell_type": "code",
      "source": [
        "d['player'].where(d['Goals'] >= 2)"
      ],
      "metadata": {
        "colab": {
          "base_uri": "https://localhost:8080/"
        },
        "id": "9pyolja-0VCf",
        "outputId": "41bfa2d8-6119-4eec-cbb6-acc5075b4095"
      },
      "execution_count": 6,
      "outputs": [
        {
          "output_type": "execute_result",
          "data": {
            "text/plain": [
              "420         Paul Pogba\n",
              "421                NaN\n",
              "426      Romelu Lukaku\n",
              "427      Romelu Lukaku\n",
              "434                NaN\n",
              "435                NaN\n",
              "436                NaN\n",
              "444       Ashley Young\n",
              "445                NaN\n",
              "483      Jesse Lingard\n",
              "484                NaN\n",
              "493    Marcus Rashford\n",
              "494    Marcus Rashford\n",
              "559                NaN\n",
              "Name: player, dtype: object"
            ]
          },
          "metadata": {},
          "execution_count": 6
        }
      ]
    },
    {
      "cell_type": "markdown",
      "source": [
        "**3)** **Create a histogram of the ‘Goals’**\n",
        "\n"
      ],
      "metadata": {
        "id": "vP_RLMqg0xIu"
      }
    },
    {
      "cell_type": "code",
      "source": [
        "data = df.Goals.plot.hist(bins = 20, title = \"Histogram of Goals\") \n",
        "data.set_xlabel(\"Number of Goals\")\n",
        "data.set_ylabel(\"Number of Players\")"
      ],
      "metadata": {
        "colab": {
          "base_uri": "https://localhost:8080/",
          "height": 312
        },
        "id": "TAPecIAV0te4",
        "outputId": "70d3f6d9-a322-4182-9d38-cd59905f46b5"
      },
      "execution_count": 7,
      "outputs": [
        {
          "output_type": "execute_result",
          "data": {
            "text/plain": [
              "Text(0, 0.5, 'Number of Players')"
            ]
          },
          "metadata": {},
          "execution_count": 7
        },
        {
          "output_type": "display_data",
          "data": {
            "text/plain": [
              "<Figure size 432x288 with 1 Axes>"
            ],
            "image/png": "[encoded data removed]"
          },
          "metadata": {
            "needs_background": "light"
          }
        }
      ]
    },
    {
      "cell_type": "markdown",
      "source": [
        "**4)** **Create a histogram of the ‘Goals’ and ‘Assists’ on the same axis.** **bold text**\n",
        "\n",
        "- Down below is the histogram of the 'Goals' and 'Assists'."
      ],
      "metadata": {
        "id": "8DI68tlM1H0-"
      }
    },
    {
      "cell_type": "code",
      "source": [
        "df1=df[['Goals','Assists']].plot.hist(title=\"Histogram of Goals and Assist\")\n",
        "df1.set_xlabel(\"Number of Goals\")\n",
        "df1.set_ylabel(\"Number of Players\")\n"
      ],
      "metadata": {
        "colab": {
          "base_uri": "https://localhost:8080/",
          "height": 312
        },
        "id": "HReXLDgs1DsB",
        "outputId": "58724445-45c6-4b5e-b159-16b13291bf5c"
      },
      "execution_count": 8,
      "outputs": [
        {
          "output_type": "execute_result",
          "data": {
            "text/plain": [
              "Text(0, 0.5, 'Number of Players')"
            ]
          },
          "metadata": {},
          "execution_count": 8
        },
        {
          "output_type": "display_data",
          "data": {
            "text/plain": [
              "<Figure size 432x288 with 1 Axes>"
            ],
            "image/png": "[encoded data removed]"
          },
          "metadata": {
            "needs_background": "light"
          }
        }
      ]
    },
    {
      "cell_type": "markdown",
      "source": [
        "**5)  Create a barchart for most goals scored by nationality.**"
      ],
      "metadata": {
        "id": "3nv-Eh6Y1bWG"
      }
    },
    {
      "cell_type": "code",
      "source": [
        "df2 = df.groupby(['nationality'])['Goals'].sum()\n",
        "df2.plot(kind='bar', title=\"Barchart of Goals\").set_ylabel(\"Goals\")\n",
        "plt.show()"
      ],
      "metadata": {
        "colab": {
          "base_uri": "https://localhost:8080/",
          "height": 344
        },
        "id": "6ZZUdG3C1gVW",
        "outputId": "628e801a-7dd5-48a6-8649-2f8d3550360b"
      },
      "execution_count": 9,
      "outputs": [
        {
          "output_type": "display_data",
          "data": {
            "text/plain": [
              "<Figure size 432x288 with 1 Axes>"
            ],
            "image/png": "[encoded data removed]"
          },
          "metadata": {
            "needs_background": "light"
          }
        }
      ]
    },
    {
      "cell_type": "markdown",
      "source": [
        "6) **Create a boxplot of ‘Yel’ (yellow cards) by nationality.**"
      ],
      "metadata": {
        "id": "DLpJJDkd1k3G"
      }
    },
    {
      "cell_type": "code",
      "source": [
        "df.boxplot(by=\"nationality\", column=\"Yel\", rot=90).set_ylabel(\"No. of Yellow card\")"
      ],
      "metadata": {
        "colab": {
          "base_uri": "https://localhost:8080/",
          "height": 421
        },
        "id": "xneuVDHD1que",
        "outputId": "75ecd174-9b38-4652-9f25-a2d58924a44f"
      },
      "execution_count": 10,
      "outputs": [
        {
          "output_type": "stream",
          "name": "stderr",
          "text": [
            "/usr/local/lib/python3.7/dist-packages/matplotlib/cbook/__init__.py:1376: VisibleDeprecationWarning: Creating an ndarray from ragged nested sequences (which is a list-or-tuple of lists-or-tuples-or ndarrays with different lengths or shapes) is deprecated. If you meant to do this, you must specify 'dtype=object' when creating the ndarray.\n",
            "  X = np.atleast_1d(X.T if isinstance(X, np.ndarray) else np.asarray(X))\n"
          ]
        },
        {
          "output_type": "execute_result",
          "data": {
            "text/plain": [
              "Text(0, 0.5, 'No. of Yellow card')"
            ]
          },
          "metadata": {},
          "execution_count": 10
        },
        {
          "output_type": "display_data",
          "data": {
            "text/plain": [
              "<Figure size 432x288 with 1 Axes>"
            ],
            "image/png": "[encoded data removed]"
          },
          "metadata": {
            "needs_background": "light"
          }
        }
      ]
    },
    {
      "cell_type": "markdown",
      "source": [
        "**7) Create ‘Goals’ and ‘Assists’ as scatter. Signify your favorite club or nationality in some way on the scatterplot. You may need to add a new column to the dataset to do so**"
      ],
      "metadata": {
        "id": "Rl0VGIUv1xIX"
      }
    },
    {
      "cell_type": "code",
      "source": [
        "sns.relplot(data=df, x = 'Goals', y= 'Assists' )\n",
        "plt.title('A scatterplot of goals and assists')"
      ],
      "metadata": {
        "colab": {
          "base_uri": "https://localhost:8080/",
          "height": 402
        },
        "id": "4aZLSQso13aW",
        "outputId": "ff6aa01e-b624-4b93-ec61-3db00a6baf72"
      },
      "execution_count": 11,
      "outputs": [
        {
          "output_type": "execute_result",
          "data": {
            "text/plain": [
              "Text(0.5, 1.0, 'A scatterplot of goals and assists')"
            ]
          },
          "metadata": {},
          "execution_count": 11
        },
        {
          "output_type": "display_data",
          "data": {
            "text/plain": [
              "<Figure size 360x360 with 1 Axes>"
            ],
            "image/png": "[encoded data removed]"
          },
          "metadata": {
            "needs_background": "light"
          }
        }
      ]
    },
    {
      "cell_type": "markdown",
      "source": [
        "**8) Create a correlation heatmap of the entire dataset.**\n"
      ],
      "metadata": {
        "id": "RWaSJmpk2rJ3"
      }
    },
    {
      "cell_type": "code",
      "source": [
        "ax = sns.heatmap(df.corr(),vmin = -1)\n",
        "ax.set(title = 'Heatmap of Banking')\n",
        "\n",
        "plt.show()"
      ],
      "metadata": {
        "colab": {
          "base_uri": "https://localhost:8080/",
          "height": 332
        },
        "id": "JiXru7RQ2gTO",
        "outputId": "f692127b-e0b4-48ae-9edf-498876b80368"
      },
      "execution_count": 12,
      "outputs": [
        {
          "output_type": "display_data",
          "data": {
            "text/plain": [
              "<Figure size 432x288 with 2 Axes>"
            ],
            "image/png": "[encoded data removed]"
          },
          "metadata": {
            "needs_background": "light"
          }
        }
      ]
    },
    {
      "cell_type": "markdown",
      "source": [
        "**Questions about the exam**:-"
      ],
      "metadata": {
        "id": "2f86KeOb3Uqd"
      }
    },
    {
      "cell_type": "markdown",
      "source": [
        "**1) Approximately how long did you work on this exam?**\n",
        "\n",
        "- It took me about 3 hours to complete this exam."
      ],
      "metadata": {
        "id": "r6X4Gsxs3aol"
      }
    },
    {
      "cell_type": "markdown",
      "source": [
        "**2) Which was the hardest and easiest topic from this section?**\n",
        "\n",
        "- Number 2 was the hardest and number 5 was the easiest topic for this section."
      ],
      "metadata": {
        "id": "rYVpop9F3ooN"
      }
    },
    {
      "cell_type": "markdown",
      "source": [
        "3) **Which method of visualization are you still unclear what it might show?**\n",
        "\n",
        "- I am clear with the method of visualization. "
      ],
      "metadata": {
        "id": "TmUKiJrV3ti1"
      }
    }
  ]
}