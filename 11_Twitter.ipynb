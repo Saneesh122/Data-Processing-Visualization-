{
  "cells": [
    {
      "cell_type": "markdown",
      "metadata": {
        "id": "view-in-github",
        "colab_type": "text"
      },
      "source": [
        "<a href=\"https://colab.research.google.com/github/bidhan7/Data-Processing-Visualization-/blob/main/11_Twitter.ipynb\" target=\"_parent\"><img src=\"https://colab.research.google.com/assets/colab-badge.svg\" alt=\"Open In Colab\"/></a>"
      ]
    },
    {
      "cell_type": "markdown",
      "source": [
        "# Twitter a Social Media Scrape\n"
      ],
      "metadata": {
        "id": "08hbfVRyERh4"
      }
    },
    {
      "cell_type": "markdown",
      "metadata": {
        "id": "KfKYoswG9Af7"
      },
      "source": [
        "## Authorizing a Twitter Account"
      ]
    },
    {
      "cell_type": "markdown",
      "source": [
        "First you'll need the [twitter package](https://pypi.org/project/twitter/)!  It is not automatically loaded into colab.  "
      ],
      "metadata": {
        "id": "w8g-yeiYEdZe"
      }
    },
    {
      "cell_type": "code",
      "source": [
        "!pip install twitter"
      ],
      "metadata": {
        "id": "uqy1O4Z69tfO",
        "outputId": "284c7f43-5edd-4e6e-fe6d-b00ae04cf852",
        "colab": {
          "base_uri": "https://localhost:8080/"
        }
      },
      "execution_count": 10,
      "outputs": [
        {
          "output_type": "stream",
          "name": "stdout",
          "text": [
            "Requirement already satisfied: twitter in /usr/local/lib/python3.7/dist-packages (1.19.3)\n"
          ]
        }
      ]
    },
    {
      "cell_type": "markdown",
      "source": [
        "Next you'll need the authentication codes for a twitter api.  You can use your own twitter account and follow the directions [here](https://developer.twitter.com/en/docs/authentication/oauth-1-0a/api-key-and-secret).  \n",
        "\n",
        "For class I have shared some authentication keys.  In order to keep these secret (GitHub won't let us post secrets to their website!) I have created a file called `config.py`.  I upload this into the environment (file structure) of colab and I reference it like a package.  This means only if you have this file can you get to it but I can share my code with everyone still."
      ],
      "metadata": {
        "id": "GSUF7QHhErYt"
      }
    },
    {
      "cell_type": "code",
      "source": [
        "import twitter\n",
        "import config\n",
        "\n",
        "CONSUMER_KEY = config.CONSUMER_KEY\n",
        "CONSUMER_SECRET = config.CONSUMER_SECRET\n",
        "OAUTH_TOKEN = config.OAUTH_TOKEN\n",
        "OAUTH_TOKEN_SECRET = config.OAUTH_TOKEN_SECRET\n",
        "auth = twitter.oauth.OAuth(OAUTH_TOKEN, OAUTH_TOKEN_SECRET,\n",
        "                           CONSUMER_KEY, CONSUMER_SECRET)\n",
        "\n",
        "mathcs_twitter_api = twitter.Twitter(auth=auth)"
      ],
      "metadata": {
        "id": "6HOHHz6L-Ru2"
      },
      "execution_count": 17,
      "outputs": []
    },
    {
      "cell_type": "markdown",
      "source": [
        "## What is the Twitterverse Discussing?"
      ],
      "metadata": {
        "id": "rAgrfaYeMmg4"
      }
    },
    {
      "cell_type": "code",
      "execution_count": 45,
      "metadata": {
        "id": "_RImub_q9AgE",
        "outputId": "a384375a-3c1a-4a33-ffe8-51a8601e799a",
        "colab": {
          "base_uri": "https://localhost:8080/"
        }
      },
      "outputs": [
        {
          "output_type": "stream",
          "name": "stdout",
          "text": [
            "Notifications\n",
            "%22ExtraordINary+DAY%22\n",
            "%22Jason+Roy%22\n",
            "Euphoria\n",
            "Poutine\n",
            "%22LET+SOMEBODY+GO+MUSIC+VIDEO%22\n",
            "%22Lovie+Smith%22\n",
            "%22Piers+Corbyn%22\n",
            "%22Wordle+234%22\n",
            "%E3%83%87%E3%82%B8%E3%82%BF%E3%83%ABKFC%E3%82%AB%E3%83%BC%E3%83%891%E4%B8%87%E5%86%86%E5%88%86%E3%83%97%E3%83%AC%E3%82%BC%E3%83%B3%E3%83%88\n"
          ]
        }
      ],
      "source": [
        "# The Yahoo! Where On Earth ID for the entire world is 1.\n",
        "# See https://dev.twitter.com/docs/api/1.1/get/trends/place and\n",
        "# http://developer.yahoo.com/geo/geoplanet/\n",
        "\n",
        "WORLD_WOE_ID = 1\n",
        "US_WOE_ID = 23424977\n",
        "\n",
        "# Prefix ID with the underscore for query string parameterization.\n",
        "# Without the underscore, the twitter package appends the ID value\n",
        "# to the URL itself as a special case keyword argument.\n",
        "\n",
        "world_trends = mathcs_twitter_api.trends.place(_id=WORLD_WOE_ID, exclude=\"hashtags\")\n",
        "us_trends = mathcs_twitter_api.trends.place(_id=US_WOE_ID)\n",
        "\n",
        "for i in range(10):\n",
        "    print(world_trends[0]['trends'][i]['query'])"
      ]
    },
    {
      "cell_type": "code",
      "execution_count": null,
      "metadata": {
        "id": "iM6Ivw_X9AgF"
      },
      "outputs": [],
      "source": [
        "for i in range(3):\n",
        "    print(us_trends[0]['trends'][i]['query'])"
      ]
    },
    {
      "cell_type": "markdown",
      "metadata": {
        "id": "5YGp0ahE9AgG"
      },
      "source": [
        "Here is a nicer display of the data using `json` package.  JSON is anotherway to store data and is utilized in many no-sql databases."
      ]
    },
    {
      "cell_type": "code",
      "execution_count": null,
      "metadata": {
        "scrolled": true,
        "id": "CCIEWF_W9AgH"
      },
      "outputs": [],
      "source": [
        "import json\n",
        "\n",
        "print(json.dumps(world_trends, indent=1))\n",
        "print(json.dumps(us_trends, indent=1))"
      ]
    },
    {
      "cell_type": "markdown",
      "metadata": {
        "id": "1Thy0-Mt9AgH"
      },
      "source": [
        "### Computing the intersection of two sets of trends"
      ]
    },
    {
      "cell_type": "code",
      "execution_count": null,
      "metadata": {
        "id": "kofZjHlN9AgI"
      },
      "outputs": [],
      "source": [
        "world_trends_set = set([trend['name'] \n",
        "                        for trend in world_trends[0]['trends']])\n",
        "\n",
        "us_trends_set = set([trend['name'] \n",
        "                     for trend in us_trends[0]['trends']]) \n",
        "\n",
        "common_trends = world_trends_set.intersection(us_trends_set)\n",
        "\n",
        "print(common_trends)"
      ]
    },
    {
      "cell_type": "markdown",
      "metadata": {
        "id": "ezcqGUb69AgJ"
      },
      "source": [
        "## Search Results"
      ]
    },
    {
      "cell_type": "code",
      "execution_count": 18,
      "metadata": {
        "id": "_6tSlP5B9AgJ",
        "outputId": "8ff23019-1e0f-4f32-ae56-f71f93c14432",
        "colab": {
          "base_uri": "https://localhost:8080/"
        }
      },
      "outputs": [
        {
          "output_type": "stream",
          "name": "stdout",
          "text": [
            "Length of statuses 1\n",
            "Length of statuses 1\n",
            "[\n",
            "    {\n",
            "        \"created_at\": \"Thu Feb 03 18:02:14 +0000 2022\",\n",
            "        \"id\": 1489298195645710337,\n",
            "        \"id_str\": \"1489298195645710337\",\n",
            "        \"text\": \"This week\\u2019s Tiger Reads recommendation is Secrets of Sports Psychology Revealed by Rick Wolff.\\nYou may recommend a\\u2026 https://t.co/pYacUzIIDn\",\n",
            "        \"truncated\": true,\n",
            "        \"entities\": {\n",
            "            \"hashtags\": [],\n",
            "            \"symbols\": [],\n",
            "            \"user_mentions\": [],\n",
            "            \"urls\": [\n",
            "                {\n",
            "                    \"url\": \"https://t.co/pYacUzIIDn\",\n",
            "                    \"expanded_url\": \"https://twitter.com/i/web/status/1489298195645710337\",\n",
            "                    \"display_url\": \"twitter.com/i/web/status/1\\u2026\",\n",
            "                    \"indices\": [\n",
            "                        116,\n",
            "                        139\n",
            "                    ]\n",
            "                }\n",
            "            ]\n",
            "        },\n",
            "        \"metadata\": {\n",
            "            \"iso_language_code\": \"en\",\n",
            "            \"result_type\": \"recent\"\n",
            "        },\n",
            "        \"source\": \"<a href=\\\"https://www.later.com\\\" rel=\\\"nofollow\\\">LaterMedia</a>\",\n",
            "        \"in_reply_to_status_id\": null,\n",
            "        \"in_reply_to_status_id_str\": null,\n",
            "        \"in_reply_to_user_id\": null,\n",
            "        \"in_reply_to_user_id_str\": null,\n",
            "        \"in_reply_to_screen_name\": null,\n",
            "        \"user\": {\n",
            "            \"id\": 1155847532607655938,\n",
            "            \"id_str\": \"1155847532607655938\",\n",
            "            \"name\": \"Linscheid Library\",\n",
            "            \"screen_name\": \"ecoklibrary\",\n",
            "            \"location\": \"Ada, OK\",\n",
            "            \"description\": \"Our mission is to collaborate with our community to provide access to resources and education, empowering users to transform our world.\",\n",
            "            \"url\": \"https://t.co/yUBTDiS18x\",\n",
            "            \"entities\": {\n",
            "                \"url\": {\n",
            "                    \"urls\": [\n",
            "                        {\n",
            "                            \"url\": \"https://t.co/yUBTDiS18x\",\n",
            "                            \"expanded_url\": \"http://ecok.libguides.com/home\",\n",
            "                            \"display_url\": \"ecok.libguides.com/home\",\n",
            "                            \"indices\": [\n",
            "                                0,\n",
            "                                23\n",
            "                            ]\n",
            "                        }\n",
            "                    ]\n",
            "                },\n",
            "                \"description\": {\n",
            "                    \"urls\": []\n",
            "                }\n",
            "            },\n",
            "            \"protected\": false,\n",
            "            \"followers_count\": 77,\n",
            "            \"friends_count\": 123,\n",
            "            \"listed_count\": 0,\n",
            "            \"created_at\": \"Mon Jul 29 14:28:21 +0000 2019\",\n",
            "            \"favourites_count\": 131,\n",
            "            \"utc_offset\": null,\n",
            "            \"time_zone\": null,\n",
            "            \"geo_enabled\": false,\n",
            "            \"verified\": false,\n",
            "            \"statuses_count\": 530,\n",
            "            \"lang\": null,\n",
            "            \"contributors_enabled\": false,\n",
            "            \"is_translator\": false,\n",
            "            \"is_translation_enabled\": false,\n",
            "            \"profile_background_color\": \"F5F8FA\",\n",
            "            \"profile_background_image_url\": null,\n",
            "            \"profile_background_image_url_https\": null,\n",
            "            \"profile_background_tile\": false,\n",
            "            \"profile_image_url\": \"http://pbs.twimg.com/profile_images/1155850686829084673/HNiOGXlz_normal.jpg\",\n",
            "            \"profile_image_url_https\": \"https://pbs.twimg.com/profile_images/1155850686829084673/HNiOGXlz_normal.jpg\",\n",
            "            \"profile_banner_url\": \"https://pbs.twimg.com/profile_banners/1155847532607655938/1635797823\",\n",
            "            \"profile_link_color\": \"1DA1F2\",\n",
            "            \"profile_sidebar_border_color\": \"C0DEED\",\n",
            "            \"profile_sidebar_fill_color\": \"DDEEF6\",\n",
            "            \"profile_text_color\": \"333333\",\n",
            "            \"profile_use_background_image\": true,\n",
            "            \"has_extended_profile\": true,\n",
            "            \"default_profile\": true,\n",
            "            \"default_profile_image\": false,\n",
            "            \"following\": false,\n",
            "            \"follow_request_sent\": false,\n",
            "            \"notifications\": false,\n",
            "            \"translator_type\": \"none\",\n",
            "            \"withheld_in_countries\": []\n",
            "        },\n",
            "        \"geo\": null,\n",
            "        \"coordinates\": null,\n",
            "        \"place\": null,\n",
            "        \"contributors\": null,\n",
            "        \"is_quote_status\": false,\n",
            "        \"retweet_count\": 0,\n",
            "        \"favorite_count\": 1,\n",
            "        \"favorited\": false,\n",
            "        \"retweeted\": false,\n",
            "        \"possibly_sensitive\": false,\n",
            "        \"lang\": \"en\"\n",
            "    }\n",
            "]\n"
          ]
        }
      ],
      "source": [
        "#  Set this variable to a trending topic, \n",
        "# or anything else for that matter. The example query below\n",
        "# was a trending topic when this content was being developed\n",
        "# and is used throughout the remainder of this chapter.\n",
        "import json\n",
        "\n",
        "\n",
        "#q = \"#Ada\"\n",
        "q = '#ECUTigers'\n",
        "\n",
        "count = 1000\n",
        "\n",
        "# See https://dev.twitter.com/docs/api/1.1/get/search/tweets\n",
        "\n",
        "search_results = mathcs_twitter_api.search.tweets(q=q, count=count)\n",
        "\n",
        "statuses = search_results['statuses']\n",
        "\n",
        "\n",
        "# Iterate through 5 more batches of results by following the cursor\n",
        "\n",
        "for _ in range(5):\n",
        "    print(\"Length of statuses\", len(statuses))\n",
        "    try:\n",
        "        next_results = search_results['search_metadata']['next_results']\n",
        "    except KeyError: # No more results when next_results doesn't exist\n",
        "        break\n",
        "        \n",
        "    # Create a dictionary from next_results, which has the following form:\n",
        "    # ?max_id=313519052523986943&q=NCAA&include_entities=1\n",
        "    kwargs = dict([ kv.split('=') for kv in next_results[1:].split(\"&\") ])\n",
        "    \n",
        "    search_results = mathcs_twitter_api.search.tweets(**kwargs)\n",
        "    statuses += search_results['statuses']\n",
        "\n",
        "# Show one sample search result by slicing the list...\n",
        "print(json.dumps(statuses, indent=4))\n"
      ]
    },
    {
      "cell_type": "code",
      "execution_count": null,
      "metadata": {
        "id": "DCQsxlBo9AgK"
      },
      "outputs": [],
      "source": [
        "json.dumps(statuses[1])"
      ]
    },
    {
      "cell_type": "markdown",
      "metadata": {
        "id": "IfE-VoJ-9AgL"
      },
      "source": [
        "### Extracting text, screen names, and hashtags from tweets"
      ]
    },
    {
      "cell_type": "code",
      "execution_count": null,
      "metadata": {
        "id": "un66hzIH9AgM"
      },
      "outputs": [],
      "source": [
        "import time\n",
        "\n",
        "\n",
        "status_texts = [ status['text'] \n",
        "                 for status in statuses ]\n",
        "\n",
        "screen_names = [ user_mention['screen_name'] \n",
        "                 for status in statuses\n",
        "                     for user_mention in status['entities']['user_mentions'] ]\n",
        "\n",
        "hashtags = [ hashtag['text'] \n",
        "             for status in statuses\n",
        "                 for hashtag in status['entities']['hashtags'] ]\n",
        "\n",
        "# Compute a collection of all words from all tweets\n",
        "words = [ w \n",
        "          for t in status_texts \n",
        "              for w in t.split() ]\n",
        "\n",
        "# Explore the first 5 items for each...\n",
        "\n",
        "print(json.dumps(status_texts[0:5], indent=1))\n",
        "print(json.dumps(screen_names[0:5], indent=1))\n",
        "print(json.dumps(hashtags[0:5], indent=1))\n",
        "print(json.dumps(words[0:5], indent=1))"
      ]
    },
    {
      "cell_type": "code",
      "execution_count": null,
      "metadata": {
        "collapsed": true,
        "id": "E7EXDgWy9AgN"
      },
      "outputs": [],
      "source": [
        "update = \"\"\n",
        "\n",
        "for i in range (0,len(status_texts)):\n",
        "    update = update + status_texts[i]"
      ]
    },
    {
      "cell_type": "code",
      "execution_count": null,
      "metadata": {
        "id": "2Ullr9hA9AgN"
      },
      "outputs": [],
      "source": [
        "update"
      ]
    },
    {
      "cell_type": "markdown",
      "metadata": {
        "id": "kp5pjLE49AgO"
      },
      "source": [
        "### Creating a basic frequency distribution from the words in tweets"
      ]
    },
    {
      "cell_type": "code",
      "execution_count": null,
      "metadata": {
        "id": "NMxmGQbd9AgO"
      },
      "outputs": [],
      "source": [
        "from collections import Counter\n",
        "\n",
        "\n",
        "\n",
        "for item in [words, screen_names, hashtags]:\n",
        "    c = Counter(item)\n",
        "    print(c.most_common()[:10]) # top 10\n"
      ]
    },
    {
      "cell_type": "code",
      "execution_count": null,
      "metadata": {
        "id": "6GVqo07k9AgP"
      },
      "outputs": [],
      "source": [
        "words"
      ]
    },
    {
      "cell_type": "code",
      "execution_count": null,
      "metadata": {
        "id": "zcmj4Qn_9AgP"
      },
      "outputs": [],
      "source": [
        "from wordcloud import WordCloud, STOPWORDS\n",
        "import matplotlib.pyplot as plt\n",
        "import pandas as pa\n",
        "\n",
        "\n",
        "stupid= [\"hi\",'bye']\n",
        "columns=[\"word\"]\n",
        "pa.DataFrame(stupid,  columns = columns)\n",
        "\n",
        "\n",
        "stopwords = set(STOPWORDS)\n",
        "\n",
        "\n",
        "\n",
        "\n",
        "wordcloud = WordCloud(width = 800, height = 800,\n",
        "                background_color ='white',\n",
        "                stopwords = stopwords,\n",
        "                min_font_size = 10).generate(update)\n",
        "\n",
        "# plot the WordCloud image                       \n",
        "plt.figure(figsize = (8, 8))\n",
        "plt.imshow(wordcloud)\n",
        "plt.axis(\"off\")\n",
        "plt.tight_layout(pad = 0)\n",
        "\n",
        "#plt.show()\n",
        "plt.savefig('img.png')"
      ]
    },
    {
      "cell_type": "code",
      "execution_count": null,
      "metadata": {
        "id": "0jzyECz79AgQ"
      },
      "outputs": [],
      "source": [
        "from PIL import Image\n",
        "\n",
        "im = Image.open('img.png')"
      ]
    },
    {
      "cell_type": "code",
      "execution_count": null,
      "metadata": {
        "id": "t5IJHjl29AgQ"
      },
      "outputs": [],
      "source": [
        "im"
      ]
    },
    {
      "cell_type": "markdown",
      "metadata": {
        "id": "gYDlU4M59AgQ"
      },
      "source": [
        "### Using Prettytable"
      ]
    },
    {
      "cell_type": "code",
      "execution_count": null,
      "metadata": {
        "id": "vpr5m1da9AgR"
      },
      "outputs": [],
      "source": [
        "from prettytable import PrettyTable\n",
        "\n",
        "for label, data in (('Word', words), \n",
        "                    ('Screen Name', screen_names), \n",
        "                    ('Hashtag', hashtags)):\n",
        "    pt = PrettyTable(field_names=[label, 'Count']) \n",
        "    c = Counter(data)\n",
        "    [ pt.add_row(kv) for kv in c.most_common()[:10] ]\n",
        "    pt.align[label], pt.align['Count'] = 'l', 'r' # Set column alignment\n",
        "    print(pt)"
      ]
    },
    {
      "cell_type": "markdown",
      "metadata": {
        "id": "bLR6rEQX9AgR"
      },
      "source": [
        "### Calculating Lexical Diversity"
      ]
    },
    {
      "cell_type": "code",
      "execution_count": null,
      "metadata": {
        "id": "H70uaojy9AgS"
      },
      "outputs": [],
      "source": [
        "# A function for computing lexical diversity\n",
        "def lexical_diversity(tokens):\n",
        "    return 1.0*len(set(tokens))/len(tokens) \n",
        "\n",
        "# A function for computing the average number of words per tweet\n",
        "def average_words(statuses):\n",
        "    total_words = sum([ len(s.split()) for s in statuses ]) \n",
        "    return 1.0*total_words/len(statuses)\n",
        "\n",
        "print(lexical_diversity(words))\n",
        "print(lexical_diversity(screen_names))\n",
        "print(lexical_diversity(hashtags))\n",
        "print(average_words(status_texts))"
      ]
    },
    {
      "cell_type": "markdown",
      "metadata": {
        "id": "TkkqhnSs9AgS"
      },
      "source": [
        "### Finding the most popular retweets"
      ]
    },
    {
      "cell_type": "code",
      "execution_count": null,
      "metadata": {
        "id": "eJLOypjR9AgS"
      },
      "outputs": [],
      "source": [
        "retweets = [\n",
        "            # Store out a tuple of these three values ...\n",
        "            (status['retweet_count'], \n",
        "             status['retweeted_status']['user']['screen_name'],\n",
        "             status['text']) \n",
        "            \n",
        "            # ... for each status ...\n",
        "            for status in statuses \n",
        "            \n",
        "            # ... so long as the status meets this condition.\n",
        "                if 'retweeted_status' in status\n",
        "           ]\n",
        "\n",
        "# Slice off the first 5 from the sorted results and display each item in the tuple\n",
        "\n",
        "pt = PrettyTable(field_names=['Count', 'Screen Name', 'Text'])\n",
        "[ pt.add_row(row) for row in sorted(retweets, reverse=True)[:5] ]\n",
        "pt.max_width['Text'] = 50\n",
        "pt.align= 'l'\n",
        "print(pt)"
      ]
    },
    {
      "cell_type": "markdown",
      "metadata": {
        "id": "Jbss8Pu09AgT"
      },
      "source": [
        "### Plotting frequencies of words"
      ]
    },
    {
      "cell_type": "code",
      "execution_count": null,
      "metadata": {
        "id": "dng1MxOK9AgT"
      },
      "outputs": [],
      "source": [
        "import matplotlib\n",
        "import matplotlib.pyplot as plt\n",
        "%matplotlib inline  \n",
        "\n",
        "\n",
        "word_counts = sorted(Counter(words).values(), reverse=True)\n",
        "\n",
        "\n",
        "\n",
        "plt.loglog(word_counts)\n",
        "plt.ylabel(\"Freq\")\n",
        "plt.xlabel(\"Word Rank\")"
      ]
    },
    {
      "cell_type": "markdown",
      "metadata": {
        "collapsed": true,
        "id": "h4jDeGDn9AgU"
      },
      "source": [
        "### Posting It Back on the Web"
      ]
    },
    {
      "cell_type": "code",
      "execution_count": null,
      "metadata": {
        "id": "wdM2lji49AgC"
      },
      "outputs": [],
      "source": [
        "import datetime\n",
        "now = datetime.datetime.now()\n",
        "\n",
        "print(now)"
      ]
    },
    {
      "cell_type": "code",
      "execution_count": null,
      "metadata": {
        "id": "HJ2zAVNl9AgU"
      },
      "outputs": [],
      "source": [
        "popular = c.most_common()[0][0]\n",
        "\n",
        "now = datetime.date(now.year,now.month,now.day)\n",
        "\n",
        "print(now)"
      ]
    },
    {
      "cell_type": "code",
      "execution_count": null,
      "metadata": {
        "id": "jYuba-xx9AgV"
      },
      "outputs": [],
      "source": [
        "mathcs_twitter_api.statuses.update(\n",
        "    status=\"#ECUTigers are talking about {} today on {} @cs_ecu\".format(popular,now))"
      ]
    },
    {
      "cell_type": "code",
      "execution_count": null,
      "metadata": {
        "id": "I4Cy1K-J9AgV"
      },
      "outputs": [],
      "source": [
        "mathcs_twitter_api.statuses.update(\n",
        "    status=\"#ECUTigers are talking about {} today on {} @cs_ecu\".format(popular,now))"
      ]
    },
    {
      "cell_type": "code",
      "execution_count": null,
      "metadata": {
        "collapsed": true,
        "id": "qbLbhpUs9AgW"
      },
      "outputs": [],
      "source": [
        ""
      ]
    },
    {
      "cell_type": "code",
      "execution_count": null,
      "metadata": {
        "id": "qJtxIEfc9AgW"
      },
      "outputs": [],
      "source": [
        "retweets = [\n",
        "            # Store out a tuple of these three values ...\n",
        "            (status['retweeted_status']['user']['screen_name'],\n",
        "             status['text']) \n",
        "            \n",
        "            # ... for each status ...\n",
        "            for status in statuses \n",
        "            \n",
        "            # ... so long as the status meets this condition.\n",
        "                if 'retweeted_status' in status\n",
        "           ]\n"
      ]
    },
    {
      "cell_type": "code",
      "execution_count": null,
      "metadata": {
        "id": "zIZ9vKGO9AgW"
      },
      "outputs": [],
      "source": [
        "retweets[1]"
      ]
    },
    {
      "cell_type": "code",
      "execution_count": null,
      "metadata": {
        "id": "dtzkMhQk9AgX"
      },
      "outputs": [],
      "source": [
        "mathcs_twitter_api.statuses.update(\n",
        "    status=\"#ECUTigers are saying `{}` today on {} @cs_ecu\".format(retweets[1],now))"
      ]
    },
    {
      "cell_type": "markdown",
      "source": [
        "## Getting Home Pages and Past Tweets"
      ],
      "metadata": {
        "id": "Dzduczjkie3n"
      }
    },
    {
      "cell_type": "markdown",
      "source": [
        "We can grab the home timeline from our user."
      ],
      "metadata": {
        "id": "Frtm_zsKi2r7"
      }
    },
    {
      "cell_type": "code",
      "execution_count": null,
      "metadata": {
        "collapsed": true,
        "id": "60MEpXuN9AgX"
      },
      "outputs": [],
      "source": [
        "len(mathcs_twitter_api.statuses.home_timeline())"
      ]
    },
    {
      "cell_type": "markdown",
      "source": [
        "Or another user"
      ],
      "metadata": {
        "id": "6fK0NAPYi2JE"
      }
    },
    {
      "cell_type": "code",
      "source": [
        "len(mathcs_twitter_api.statuses.user_timeline(screen_name=\"nurfnick\"))"
      ],
      "metadata": {
        "id": "Pg6PwIPbioaP"
      },
      "execution_count": null,
      "outputs": []
    },
    {
      "cell_type": "markdown",
      "source": [
        "I am going to guess here that the API is limiting me to only the past 20 tweets.  You'll find that there are lots of limits in the API!"
      ],
      "metadata": {
        "id": "o-VfSeZQjTls"
      }
    },
    {
      "cell_type": "markdown",
      "source": [
        "## Your Turn"
      ],
      "metadata": {
        "id": "Juk1_tX_jn_4"
      }
    },
    {
      "cell_type": "markdown",
      "source": [
        "Using either the math_cs credentials or your own;\n",
        "\n",
        "1. Get authenticated to twitter.\n",
        "2. Find the top trending 10 topics in the world and display them by name\n",
        "3. Search for your favorite show, actor, sports team or player and see what twitter is saying about them."
      ],
      "metadata": {
        "id": "aTmQdOY8jp-Q"
      }
    },
    {
      "cell_type": "code",
      "source": [
        ""
      ],
      "metadata": {
        "id": "1jwI6FUpjpfK"
      },
      "execution_count": null,
      "outputs": []
    }
  ],
  "metadata": {
    "anaconda-cloud": {},
    "kernelspec": {
      "display_name": "Python 3",
      "language": "python",
      "name": "python3"
    },
    "language_info": {
      "codemirror_mode": {
        "name": "ipython",
        "version": 3
      },
      "file_extension": ".py",
      "mimetype": "text/x-python",
      "name": "python",
      "nbconvert_exporter": "python",
      "pygments_lexer": "ipython3",
      "version": "3.6.1"
    },
    "colab": {
      "name": "Starla_Data_Scrapping.ipynb",
      "provenance": [],
      "include_colab_link": true
    }
  },
  "nbformat": 4,
  "nbformat_minor": 0
}