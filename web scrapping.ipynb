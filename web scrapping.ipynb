{
  "nbformat": 4,
  "nbformat_minor": 0,
  "metadata": {
    "colab": {
      "name": "Untitled2.ipynb",
      "provenance": [],
      "authorship_tag": "ABX9TyNf5m0HYsqE1a/81kyyjMFa",
      "include_colab_link": true
    },
    "kernelspec": {
      "name": "python3",
      "display_name": "Python 3"
    },
    "language_info": {
      "name": "python"
    }
  },
  "cells": [
    {
      "cell_type": "markdown",
      "metadata": {
        "id": "view-in-github",
        "colab_type": "text"
      },
      "source": [
        "<a href=\"https://colab.research.google.com/github/bidhan7/Data-Processing-Visualization-/blob/main/web%20scrapping.ipynb\" target=\"_parent\"><img src=\"https://colab.research.google.com/assets/colab-badge.svg\" alt=\"Open In Colab\"/></a>"
      ]
    },
    {
      "cell_type": "markdown",
      "source": [
        "## Bidhan Subedi\n",
        "## Data Processing Visualization \n"
      ],
      "metadata": {
        "id": "rntqmYyOuYzR"
      }
    },
    {
      "cell_type": "markdown",
      "source": [
        "Web Scrapping is the get-together of the information for task. There are bunches of incredible bundles to peruse and parse html.request will accumulate the raw html. BeautifulSoup will assist me with parsing the code."
      ],
      "metadata": {
        "id": "kLCvx2t--DpL"
      }
    },
    {
      "cell_type": "code",
      "execution_count": 9,
      "metadata": {
        "id": "Bzm5V551t_oq"
      },
      "outputs": [],
      "source": [
        "import requests\n",
        "import pandas as pd\n",
        "from bs4 import BeautifulSoup"
      ]
    },
    {
      "cell_type": "markdown",
      "source": [
        "I will look over a webpage of Peaky Blinders. It's new season is coming soon in 2022. "
      ],
      "metadata": {
        "id": "_dnLbPms1jte"
      }
    },
    {
      "cell_type": "markdown",
      "source": [
        "https://en.wikipedia.org/wiki/Peaky_Blinders_(TV_series)"
      ],
      "metadata": {
        "id": "ZMSXTuuY1iKN"
      }
    },
    {
      "cell_type": "code",
      "source": [
        "rawData = requests.get('https://en.wikipedia.org/wiki/Peaky_Blinders_(TV_series)')\n",
        "html_texts = rawData.text\n",
        "# now lets parse those codes\n",
        "soup = BeautifulSoup(html_texts,'lxml')"
      ],
      "metadata": {
        "id": "-3tYeBf52IUe"
      },
      "execution_count": 10,
      "outputs": []
    },
    {
      "cell_type": "markdown",
      "source": [
        "## Basic Building Blocks"
      ],
      "metadata": {
        "id": "TrNBsV93Atb-"
      }
    },
    {
      "cell_type": "code",
      "source": [
        "soup.title"
      ],
      "metadata": {
        "colab": {
          "base_uri": "https://localhost:8080/"
        },
        "id": "lM2IC8_4vGtx",
        "outputId": "6f4d92d5-f4ba-4fc0-eed6-8c245b85012b"
      },
      "execution_count": 11,
      "outputs": [
        {
          "output_type": "execute_result",
          "data": {
            "text/plain": [
              "<title>Peaky Blinders (TV series) - Wikipedia</title>"
            ]
          },
          "metadata": {},
          "execution_count": 11
        }
      ]
    },
    {
      "cell_type": "code",
      "source": [
        "soup.title.text\n"
      ],
      "metadata": {
        "colab": {
          "base_uri": "https://localhost:8080/",
          "height": 35
        },
        "id": "v2iwCHUl2ozP",
        "outputId": "168814c9-2d45-4a92-b67c-aa608fdc4166"
      },
      "execution_count": 12,
      "outputs": [
        {
          "output_type": "execute_result",
          "data": {
            "application/vnd.google.colaboratory.intrinsic+json": {
              "type": "string"
            },
            "text/plain": [
              "'Peaky Blinders (TV series) - Wikipedia'"
            ]
          },
          "metadata": {},
          "execution_count": 12
        }
      ]
    },
    {
      "cell_type": "code",
      "source": [
        "soup.img"
      ],
      "metadata": {
        "colab": {
          "base_uri": "https://localhost:8080/"
        },
        "id": "2t-AIgg8B8_j",
        "outputId": "205e0dd4-b5ac-457f-d1ab-bdd504a2b955"
      },
      "execution_count": 16,
      "outputs": [
        {
          "output_type": "execute_result",
          "data": {
            "text/plain": [
              "<img alt=\"Peaky Blinders titlecard.jpg\" data-file-height=\"197\" data-file-width=\"350\" decoding=\"async\" height=\"141\" src=\"//upload.wikimedia.org/wikipedia/en/thumb/e/e8/Peaky_Blinders_titlecard.jpg/250px-Peaky_Blinders_titlecard.jpg\" srcset=\"//upload.wikimedia.org/wikipedia/en/e/e8/Peaky_Blinders_titlecard.jpg 1.5x\" width=\"250\"/>"
            ]
          },
          "metadata": {},
          "execution_count": 16
        }
      ]
    },
    {
      "cell_type": "code",
      "source": [
        "soup.table.findAll('a')"
      ],
      "metadata": {
        "colab": {
          "base_uri": "https://localhost:8080/"
        },
        "id": "R1ZzxaBL2uj_",
        "outputId": "92578b84-3450-418f-bc50-e43136f90da4"
      },
      "execution_count": 13,
      "outputs": [
        {
          "output_type": "execute_result",
          "data": {
            "text/plain": [
              "[<a class=\"image\" href=\"/wiki/File:Peaky_Blinders_titlecard.jpg\"><img alt=\"Peaky Blinders titlecard.jpg\" data-file-height=\"197\" data-file-width=\"350\" decoding=\"async\" height=\"141\" src=\"//upload.wikimedia.org/wikipedia/en/thumb/e/e8/Peaky_Blinders_titlecard.jpg/250px-Peaky_Blinders_titlecard.jpg\" srcset=\"//upload.wikimedia.org/wikipedia/en/e/e8/Peaky_Blinders_titlecard.jpg 1.5x\" width=\"250\"/></a>,\n",
              " <a href=\"/wiki/Historical_fiction\" title=\"Historical fiction\">Historical fiction</a>,\n",
              " <a class=\"mw-redirect\" href=\"/wiki/Crime_drama\" title=\"Crime drama\">Crime drama</a>,\n",
              " <a href=\"/wiki/Steven_Knight\" title=\"Steven Knight\">Steven Knight</a>,\n",
              " <a href=\"/wiki/Otto_Bathurst\" title=\"Otto Bathurst\">Otto Bathurst</a>,\n",
              " <a href=\"/wiki/Tom_Harper_(director)\" title=\"Tom Harper (director)\">Tom Harper</a>,\n",
              " <a href=\"/wiki/Colm_McCarthy_(director)\" title=\"Colm McCarthy (director)\">Colm McCarthy</a>,\n",
              " <a href=\"/wiki/David_Caffrey\" title=\"David Caffrey\">David Caffrey</a>,\n",
              " <a href=\"/wiki/Cillian_Murphy\" title=\"Cillian Murphy\">Cillian Murphy</a>,\n",
              " <a href=\"/wiki/Sam_Neill\" title=\"Sam Neill\">Sam Neill</a>,\n",
              " <a href=\"/wiki/Helen_McCrory\" title=\"Helen McCrory\">Helen McCrory</a>,\n",
              " <a href=\"/wiki/Paul_Anderson_(actor)\" title=\"Paul Anderson (actor)\">Paul Anderson</a>,\n",
              " <a href=\"/wiki/Annabelle_Wallis\" title=\"Annabelle Wallis\">Annabelle Wallis</a>,\n",
              " <a href=\"/wiki/Iddo_Goldberg\" title=\"Iddo Goldberg\">Iddo Goldberg</a>,\n",
              " <a href=\"/wiki/Sophie_Rundle\" title=\"Sophie Rundle\">Sophie Rundle</a>,\n",
              " <a href=\"/wiki/Joe_Cole_(actor)\" title=\"Joe Cole (actor)\">Joe Cole</a>,\n",
              " <a href=\"/wiki/Finn_Cole\" title=\"Finn Cole\">Finn Cole</a>,\n",
              " <a href=\"/wiki/Charlotte_Riley\" title=\"Charlotte Riley\">Charlotte Riley</a>,\n",
              " <a href=\"/wiki/Noah_Taylor\" title=\"Noah Taylor\">Noah Taylor</a>,\n",
              " <a href=\"/wiki/Tom_Hardy\" title=\"Tom Hardy\">Tom Hardy</a>,\n",
              " <a href=\"/wiki/Natasha_O%27Keeffe\" title=\"Natasha O'Keeffe\">Natasha O'Keeffe</a>,\n",
              " <a href=\"/wiki/Aimee-Ffion_Edwards\" title=\"Aimee-Ffion Edwards\">Aimee-Ffion Edwards</a>,\n",
              " <a href=\"/wiki/Paddy_Considine\" title=\"Paddy Considine\">Paddy Considine</a>,\n",
              " <a href=\"/wiki/Gaite_Jansen\" title=\"Gaite Jansen\">Gaite Jansen</a>,\n",
              " <a href=\"/wiki/Alexander_Siddig\" title=\"Alexander Siddig\">Alexander Siddig</a>,\n",
              " <a href=\"/wiki/Kate_Phillips\" title=\"Kate Phillips\">Kate Phillips</a>,\n",
              " <a href=\"/wiki/Adrien_Brody\" title=\"Adrien Brody\">Adrien Brody</a>,\n",
              " <a href=\"/wiki/Aidan_Gillen\" title=\"Aidan Gillen\">Aidan Gillen</a>,\n",
              " <a href=\"/wiki/Charlie_Murphy_(actress)\" title=\"Charlie Murphy (actress)\">Charlie Murphy</a>,\n",
              " <a href=\"/wiki/Anya_Taylor-Joy\" title=\"Anya Taylor-Joy\">Anya Taylor-Joy</a>,\n",
              " <a href=\"/wiki/Sam_Claflin\" title=\"Sam Claflin\">Sam Claflin</a>,\n",
              " <a href=\"/wiki/Red_Right_Hand\" title=\"Red Right Hand\">Red Right Hand</a>,\n",
              " <a href=\"/wiki/Nick_Cave_and_the_Bad_Seeds\" title=\"Nick Cave and the Bad Seeds\">Nick Cave and the Bad Seeds</a>,\n",
              " <a href=\"/wiki/Martin_Phipps\" title=\"Martin Phipps\">Martin Phipps</a>,\n",
              " <a href=\"/wiki/Paul_Hartnoll\" title=\"Paul Hartnoll\">Paul Hartnoll</a>,\n",
              " <a href=\"/wiki/Antony_Genn\" title=\"Antony Genn\">Antony Genn</a>,\n",
              " <a href=\"/wiki/Martin_Slattery\" title=\"Martin Slattery\">Martin Slattery</a>,\n",
              " <a href=\"/wiki/Anna_Calvi\" title=\"Anna Calvi\">Anna Calvi</a>,\n",
              " <a href=\"/wiki/List_of_Peaky_Blinders_episodes\" title=\"List of Peaky Blinders episodes\">list of episodes</a>,\n",
              " <a href=\"/wiki/Caryn_Mandabach\" title=\"Caryn Mandabach\">Caryn Mandabach</a>,\n",
              " <a href=\"/wiki/Birmingham\" title=\"Birmingham\">Birmingham</a>,\n",
              " <a href=\"/wiki/Bradford\" title=\"Bradford\">Bradford</a>,\n",
              " <a href=\"/wiki/Keighley\" title=\"Keighley\">Keighley</a>,\n",
              " <a href=\"/wiki/Leeds\" title=\"Leeds\">Leeds</a>,\n",
              " <a href=\"/wiki/Bolton\" title=\"Bolton\">Bolton</a>,\n",
              " <a href=\"/wiki/Wigan\" title=\"Wigan\">Wigan</a>,\n",
              " <a href=\"/wiki/Manchester\" title=\"Manchester\">Manchester</a>,\n",
              " <a href=\"/wiki/Liverpool\" title=\"Liverpool\">Liverpool</a>,\n",
              " <a href=\"/wiki/City_of_Bradford\" title=\"City of Bradford\">City of Bradford</a>,\n",
              " <a href=\"/wiki/Dudley\" title=\"Dudley\">Dudley</a>,\n",
              " <a href=\"/wiki/Stockport\" title=\"Stockport\">Stockport</a>,\n",
              " <a href=\"/wiki/London\" title=\"London\">London</a>,\n",
              " <a href=\"/wiki/BBC_Studios\" title=\"BBC Studios\">BBC Studios</a>,\n",
              " <a href=\"/wiki/Tiger_Aspect_Productions\" title=\"Tiger Aspect Productions\">Tiger Aspect Productions</a>,\n",
              " <a class=\"mw-redirect\" href=\"/wiki/Screen_Yorkshire\" title=\"Screen Yorkshire\">Screen Yorkshire</a>,\n",
              " <a href=\"/wiki/BBC_Studios\" title=\"BBC Studios\">BBC Studios</a>,\n",
              " <a href=\"/wiki/Endemol_Shine_Group\" title=\"Endemol Shine Group\">Endemol Shine Group</a>,\n",
              " <a href=\"#cite_note-1\">[1]</a>,\n",
              " <a href=\"/wiki/Netflix\" title=\"Netflix\">Netflix</a>,\n",
              " <a href=\"/wiki/BBC_Two\" title=\"BBC Two\">BBC Two</a>,\n",
              " <a href=\"/wiki/BBC_One\" title=\"BBC One\">BBC One</a>,\n",
              " <a href=\"/wiki/1080i\" title=\"1080i\">1080i</a>,\n",
              " <a class=\"mw-redirect\" href=\"/wiki/HDTV\" title=\"HDTV\">HDTV</a>,\n",
              " <a href=\"/wiki/Stereophonic_sound\" title=\"Stereophonic sound\">Stereo</a>,\n",
              " <a class=\"mw-redirect\" href=\"/wiki/5.1_Surround_Sound\" title=\"5.1 Surround Sound\">5.1 Surround Sound</a>,\n",
              " <a class=\"external text\" href=\"https://www.bbc.co.uk/programmes/b045fz8r\" rel=\"nofollow\">Official website</a>]"
            ]
          },
          "metadata": {},
          "execution_count": 13
        }
      ]
    },
    {
      "cell_type": "markdown",
      "source": [
        "Tabulate library is usually used for printing small tables without hassle (just one function call, formatting is guided by the data itself). It is readable presentation of mixed textual and numeric data"
      ],
      "metadata": {
        "id": "Yb2O3joVCQPp"
      }
    },
    {
      "cell_type": "code",
      "source": [
        "from tabulate import tabulate\n",
        "table = soup.find_all(class_ = 'infobox vevent')[0] \n",
        "df = pd.read_html(str(table))\n",
        "print( tabulate(df[0], headers='keys', tablefmt='psql') )"
      ],
      "metadata": {
        "colab": {
          "base_uri": "https://localhost:8080/"
        },
        "id": "U_asl0I927UG",
        "outputId": "c1821c1d-2d21-4c12-842e-dfe265c5e085"
      },
      "execution_count": 14,
      "outputs": [
        {
          "output_type": "stream",
          "name": "stdout",
          "text": [
            "+----+----------------------+----------------------------------------------------------------------------------------------------------------------------------------------------------------------------------------------------------------------------------------------------------------------------------------------------------------------------------+\n",
            "|    | Peaky Blinders       | Peaky Blinders.1                                                                                                                                                                                                                                                                                                                 |\n",
            "|----+----------------------+----------------------------------------------------------------------------------------------------------------------------------------------------------------------------------------------------------------------------------------------------------------------------------------------------------------------------------|\n",
            "|  0 | nan                  | nan                                                                                                                                                                                                                                                                                                                              |\n",
            "|  1 | Genre                | Historical fiction Crime drama                                                                                                                                                                                                                                                                                                   |\n",
            "|  2 | Created by           | Steven Knight                                                                                                                                                                                                                                                                                                                    |\n",
            "|  3 | Written by           | Steven Knight Toby Finlay Stephen Russell                                                                                                                                                                                                                                                                                        |\n",
            "|  4 | Directed by          | Otto Bathurst (series 1) Tom Harper (series 1) Colm McCarthy (series 2) Tim Mielants (series 3) David Caffrey (series 4) Anthony Byrne (series 5 and 6)                                                                                                                                                                          |\n",
            "|  5 | Starring             | Cillian Murphy Sam Neill Helen McCrory Paul Anderson Annabelle Wallis Iddo Goldberg Sophie Rundle Joe Cole Finn Cole Charlotte Riley Noah Taylor Tom Hardy Natasha O'Keeffe Aimee-Ffion Edwards Paddy Considine Gaite Jansen Alexander Siddig Kate Phillips Adrien Brody Aidan Gillen Charlie Murphy Anya Taylor-Joy Sam Claflin |\n",
            "|  6 | Opening theme        | \"Red Right Hand\" by Nick Cave and the Bad Seeds                                                                                                                                                                                                                                                                                  |\n",
            "|  7 | Composers            | Martin Phipps Paul Hartnoll Dickon Hinchliffe Antony Genn Martin Slattery Anna Calvi                                                                                                                                                                                                                                             |\n",
            "|  8 | Country of origin    | United Kingdom                                                                                                                                                                                                                                                                                                                   |\n",
            "|  9 | Original language    | English                                                                                                                                                                                                                                                                                                                          |\n",
            "| 10 | No. of series        | 5                                                                                                                                                                                                                                                                                                                                |\n",
            "| 11 | No. of episodes      | 30 (list of episodes)                                                                                                                                                                                                                                                                                                            |\n",
            "| 12 | Production           | Production                                                                                                                                                                                                                                                                                                                       |\n",
            "| 13 | Executive producers  | Caryn Mandabach Greg Brenman Steven Knight Cillian Murphy Jamie Glazebrook Frith Tiplady                                                                                                                                                                                                                                         |\n",
            "| 14 | Producer             | Katie Swinden                                                                                                                                                                                                                                                                                                                    |\n",
            "| 15 | Production locations | Birmingham (main setting) Bradford Keighley Leeds Bolton Wigan Manchester Liverpool City of Bradford Dudley Stockport London                                                                                                                                                                                                     |\n",
            "| 16 | Cinematography       | George Steel                                                                                                                                                                                                                                                                                                                     |\n",
            "| 17 | Running time         | 55–65 minutes                                                                                                                                                                                                                                                                                                                    |\n",
            "| 18 | Production companies | BBC Studios Caryn Mandabach Productions Tiger Aspect Productions Screen Yorkshire                                                                                                                                                                                                                                                |\n",
            "| 19 | Distributor          | BBC Studios (United Kingdom) Endemol Shine Group[1] (International) Netflix (International)                                                                                                                                                                                                                                      |\n",
            "| 20 | Budget               | $1.5 million per episode                                                                                                                                                                                                                                                                                                         |\n",
            "| 21 | Release              | Release                                                                                                                                                                                                                                                                                                                          |\n",
            "| 22 | Original network     | BBC Two (series 1–4) BBC One (series 5–)                                                                                                                                                                                                                                                                                         |\n",
            "| 23 | Picture format       | 1080i HDTV                                                                                                                                                                                                                                                                                                                       |\n",
            "| 24 | Audio format         | Stereo 5.1 Surround Sound                                                                                                                                                                                                                                                                                                        |\n",
            "| 25 | Original release     | 12 September 2013present                                                                                                                                                                                                                                                                                                         |\n",
            "| 26 | External links       | External links                                                                                                                                                                                                                                                                                                                   |\n",
            "| 27 | Official website     | Official website                                                                                                                                                                                                                                                                                                                 |\n",
            "+----+----------------------+----------------------------------------------------------------------------------------------------------------------------------------------------------------------------------------------------------------------------------------------------------------------------------------------------------------------------------+\n"
          ]
        }
      ]
    },
    {
      "cell_type": "code",
      "source": [
        "table = soup.find_all(class_ = 'wikitable plainrowheaders')[0]\n",
        "dataFrame = pd.read_html(str(table))\n",
        "print( tabulate(dataFrame[0], headers='keys', tablefmt='psql') )"
      ],
      "metadata": {
        "colab": {
          "base_uri": "https://localhost:8080/"
        },
        "id": "6_FDDHgL7YjP",
        "outputId": "f2019e74-cc80-4c26-c35d-9105e82ff2d4"
      },
      "execution_count": 15,
      "outputs": [
        {
          "output_type": "stream",
          "name": "stdout",
          "text": [
            "+----+----------------------------------------+------------------------------------+-------------------+-------------------+-------------------+-------------------+-------------------+-------------------+\n",
            "|    | ('Character', 'Character')             | ('Portrayed by', 'Portrayed by')   | ('Series', '1')   | ('Series', '2')   | ('Series', '3')   | ('Series', '4')   | ('Series', '5')   | ('Series', '6')   |\n",
            "|----+----------------------------------------+------------------------------------+-------------------+-------------------+-------------------+-------------------+-------------------+-------------------|\n",
            "|  0 | Thomas \"Tommy\" Shelby                  | Cillian Murphy                     | Main              | Main              | Main              | Main              | Main              | Main              |\n",
            "|  1 | Chief Inspector/Major Chester Campbell | Sam Neill                          | Main              | Main              | nan               | nan               | nan               | nan               |\n",
            "|  2 | Elizabeth \"Polly\" Gray, née Shelby     | Helen McCrory                      | Main              | Main              | Main              | Main              | Main              | nan               |\n",
            "|  3 | Arthur Shelby Jr.                      | Paul Anderson                      | Main              | Main              | Main              | Main              | Main              | Main              |\n",
            "|  4 | Ada Thorne, née Shelby                 | Sophie Rundle                      | Main              | Main              | Main              | Main              | Main              | Main              |\n",
            "|  5 | John \"Johnny\" Shelby                   | Joe Cole                           | Main              | Main              | Main              | Main              | nan               | nan               |\n",
            "|  6 | Grace Shelby, née Burgess              | Annabelle Wallis                   | Main              | Main              | Main              | nan               | Main              | TBA               |\n",
            "|  7 | Charlie Strong                         | Ned Dennehy                        | Main              | Main              | Main              | Main              | Main              | Main              |\n",
            "|  8 | Jeremiah \"Jimmy\" Jesus                 | Benjamin Zephaniah                 | Main              | Main              | Main              | Main              | Main              | TBA               |\n",
            "|  9 | Winston Churchill                      | Andy Nyman                         | Main              | nan               | nan               | nan               | nan               | nan               |\n",
            "| 10 | Winston Churchill                      | Richard McCabe                     | nan               | Main              | nan               | nan               | nan               | nan               |\n",
            "| 11 | Winston Churchill                      | Neil Maskell                       | nan               | nan               | nan               | nan               | Main              | TBA               |\n",
            "| 12 | Billy Kimber                           | Charlie Creed-Miles                | Main              | nan               | nan               | nan               | nan               | nan               |\n",
            "| 13 | Freddie Thorne                         | Iddo Goldberg                      | Main              | nan               | nan               | nan               | nan               | nan               |\n",
            "| 14 | Arthur Shelby, Sr.                     | Tommy Flanagan                     | Main              | nan               | nan               | nan               | nan               | nan               |\n",
            "| 15 | Lizzie Shelby, née Stark               | Natasha O'Keeffe                   | Recurring         | Main              | Main              | Main              | Main              | Main              |\n",
            "| 16 | Johnny Dogs                            | Packy Lee                          | Recurring         | Main              | Main              | Main              | Main              | Main              |\n",
            "| 17 | Alfred \"Alfie\" Solomons                | Tom Hardy                          | nan               | Main              | Main              | Main              | Main              | Main              |\n",
            "| 18 | Michael Gray                           | Finn Cole                          | nan               | Main              | Main              | Main              | Main              | Main              |\n",
            "| 19 | May Fitz Carleton                      | Charlotte Riley                    | nan               | Main              | nan               | Main              | nan               | nan               |\n",
            "| 20 | Darby Sabini                           | Noah Taylor                        | nan               | Main              | nan               | nan               | nan               | TBA               |\n",
            "| 21 | Esme Shelby                            | Aimee-Ffion Edwards                | Recurring         | Recurring         | Main              | Main              | nan               | Main              |\n",
            "| 22 | Karl Thorne                            | George Gwyther                     | nan               | nan               | Main              | nan               | nan               | nan               |\n",
            "| 23 | Karl Thorne                            | Callum Booth-Ford                  | nan               | nan               | nan               | nan               | Main              | TBA               |\n",
            "| 24 | Father John Hughes                     | Paddy Considine                    | nan               | nan               | Main              | nan               | nan               | nan               |\n",
            "| 25 | Ruben Oliver                           | Alexander Siddig                   | nan               | nan               | Main              | nan               | nan               | nan               |\n",
            "| 26 | Grand Duchess Tatiana Petrovna         | Gaite Jansen                       | nan               | nan               | Main              | nan               | nan               | nan               |\n",
            "| 27 | Grand Duchess Izabella                 | Dina Korzun                        | nan               | nan               | Main              | nan               | nan               | nan               |\n",
            "| 28 | Curly                                  | Ian Peck                           | Recurring         | Recurring         | Recurring         | Main              | Main              | Main              |\n",
            "| 29 | Linda Shelby                           | Kate Phillips                      | nan               | nan               | Recurring         | Main              | Main              | Recurring         |\n",
            "| 30 | Aberama Gold                           | Aidan Gillen                       | nan               | nan               | nan               | Main              | Main              | nan               |\n",
            "| 31 | Jessie Eden                            | Charlie Murphy                     | nan               | nan               | nan               | Main              | Main              | nan               |\n",
            "| 32 | Bonnie Gold                            | Jack Rowan                         | nan               | nan               | nan               | Main              | Main              | nan               |\n",
            "| 33 | Luca Changretta                        | Adrien Brody                       | nan               | nan               | nan               | Main              | nan               | nan               |\n",
            "| 34 | Colonel Ben Younger                    | Kingsley Ben-Adir                  | nan               | nan               | nan               | Recurring         | Main              | nan               |\n",
            "| 35 | Sir Oswald Mosley                      | Sam Claflin                        | nan               | nan               | nan               | nan               | Main              | Main              |\n",
            "| 36 | Gina Gray                              | Anya Taylor-Joy                    | nan               | nan               | nan               | nan               | Main              | Main              |\n",
            "| 37 | Jimmy McCavern                         | Brian Gleeson                      | nan               | nan               | nan               | nan               | Main              | TBA               |\n",
            "| 38 | Barney Thomason                        | Cosmo Jarvis                       | nan               | nan               | nan               | nan               | Main              | nan               |\n",
            "| 39 | Brilliant Chang                        | Andrew Koji                        | nan               | nan               | nan               | nan               | Main              | nan               |\n",
            "| 40 | TBA                                    | Stephen Graham                     | nan               | nan               | nan               | nan               | nan               | Main              |\n",
            "| 41 | Lady Diana Mosley                      | Amber Anderson                     | nan               | nan               | nan               | nan               | nan               | Main              |\n",
            "+----+----------------------------------------+------------------------------------+-------------------+-------------------+-------------------+-------------------+-------------------+-------------------+\n"
          ]
        }
      ]
    }
  ]
}