{
  "nbformat": 4,
  "nbformat_minor": 0,
  "metadata": {
    "colab": {
      "name": "Quiz-14",
      "provenance": [],
      "authorship_tag": "ABX9TyNY5niyxrXlak9CnDrBPSmz",
      "include_colab_link": true
    },
    "kernelspec": {
      "name": "python3",
      "display_name": "Python 3"
    },
    "language_info": {
      "name": "python"
    }
  },
  "cells": [
    {
      "cell_type": "markdown",
      "metadata": {
        "id": "view-in-github",
        "colab_type": "text"
      },
      "source": [
        "<a href=\"https://colab.research.google.com/github/Saneesh122/Data-Processing-Visualization-/blob/main/Quiz_14.ipynb\" target=\"_parent\"><img src=\"https://colab.research.google.com/assets/colab-badge.svg\" alt=\"Open In Colab\"/></a>"
      ]
    },
    {
      "cell_type": "markdown",
      "source": [
        "Quiz-14 "
      ],
      "metadata": {
        "id": "Wj2U1tOavkth"
      }
    },
    {
      "cell_type": "markdown",
      "source": [
        "Program to print Happy Birthday including my name:- "
      ],
      "metadata": {
        "id": "jx_nufNjvq5V"
      }
    },
    {
      "cell_type": "code",
      "execution_count": 14,
      "metadata": {
        "id": "u6kzWG6JvWXy"
      },
      "outputs": [],
      "source": [
        "song = \"\"\"  HAPPY BIRTHDAY TO ME, HAPPY BIRTHDAY TO ME, HAPPY BIRTHDAY DEAR %a, HAPPY BIRTHDAY TO ME.\"\"\" %('SANISH')"
      ]
    },
    {
      "cell_type": "code",
      "source": [
        "song"
      ],
      "metadata": {
        "colab": {
          "base_uri": "https://localhost:8080/",
          "height": 35
        },
        "id": "ACzcXUZXwS_O",
        "outputId": "c1f5f238-df3e-4418-d7fd-2f246ab82873"
      },
      "execution_count": 15,
      "outputs": [
        {
          "output_type": "execute_result",
          "data": {
            "application/vnd.google.colaboratory.intrinsic+json": {
              "type": "string"
            },
            "text/plain": [
              "\"  HAPPY BIRTHDAY TO ME, HAPPY BIRTHDAY TO ME, HAPPY BIRTHDAY DEAR 'SANISH', HAPPY BIRTHDAY TO ME.\""
            ]
          },
          "metadata": {},
          "execution_count": 15
        }
      ]
    },
    {
      "cell_type": "markdown",
      "source": [
        "And it is done. THANK YOU."
      ],
      "metadata": {
        "id": "pve_ZZHMxSc1"
      }
    }
  ]
}